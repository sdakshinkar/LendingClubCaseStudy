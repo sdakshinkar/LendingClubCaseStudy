{
 "cells": [
  {
   "cell_type": "code",
   "execution_count": 1,
   "id": "3304fdb6-0a9b-4137-b91a-20bfd70df994",
   "metadata": {},
   "outputs": [],
   "source": [
    "import pandas as pd\n",
    "import matplotlib.pyplot as plt\n",
    "import seaborn as sns"
   ]
  },
  {
   "cell_type": "code",
   "execution_count": 2,
   "id": "6e5f360f-d202-4e2b-ac89-1921c07c6c04",
   "metadata": {},
   "outputs": [
    {
     "name": "stderr",
     "output_type": "stream",
     "text": [
      "C:\\Users\\sdaks\\AppData\\Local\\Temp\\ipykernel_35316\\3318210521.py:1: DtypeWarning: Columns (47) have mixed types. Specify dtype option on import or set low_memory=False.\n",
      "  df = pd.read_csv('loan.csv')\n"
     ]
    },
    {
     "data": {
      "text/html": [
       "<div>\n",
       "<style scoped>\n",
       "    .dataframe tbody tr th:only-of-type {\n",
       "        vertical-align: middle;\n",
       "    }\n",
       "\n",
       "    .dataframe tbody tr th {\n",
       "        vertical-align: top;\n",
       "    }\n",
       "\n",
       "    .dataframe thead th {\n",
       "        text-align: right;\n",
       "    }\n",
       "</style>\n",
       "<table border=\"1\" class=\"dataframe\">\n",
       "  <thead>\n",
       "    <tr style=\"text-align: right;\">\n",
       "      <th></th>\n",
       "      <th>id</th>\n",
       "      <th>member_id</th>\n",
       "      <th>loan_amnt</th>\n",
       "      <th>funded_amnt</th>\n",
       "      <th>funded_amnt_inv</th>\n",
       "      <th>term</th>\n",
       "      <th>int_rate</th>\n",
       "      <th>installment</th>\n",
       "      <th>grade</th>\n",
       "      <th>sub_grade</th>\n",
       "      <th>...</th>\n",
       "      <th>num_tl_90g_dpd_24m</th>\n",
       "      <th>num_tl_op_past_12m</th>\n",
       "      <th>pct_tl_nvr_dlq</th>\n",
       "      <th>percent_bc_gt_75</th>\n",
       "      <th>pub_rec_bankruptcies</th>\n",
       "      <th>tax_liens</th>\n",
       "      <th>tot_hi_cred_lim</th>\n",
       "      <th>total_bal_ex_mort</th>\n",
       "      <th>total_bc_limit</th>\n",
       "      <th>total_il_high_credit_limit</th>\n",
       "    </tr>\n",
       "  </thead>\n",
       "  <tbody>\n",
       "    <tr>\n",
       "      <th>0</th>\n",
       "      <td>1077501</td>\n",
       "      <td>1296599</td>\n",
       "      <td>5000</td>\n",
       "      <td>5000</td>\n",
       "      <td>4975.0</td>\n",
       "      <td>36 months</td>\n",
       "      <td>10.65%</td>\n",
       "      <td>162.87</td>\n",
       "      <td>B</td>\n",
       "      <td>B2</td>\n",
       "      <td>...</td>\n",
       "      <td>NaN</td>\n",
       "      <td>NaN</td>\n",
       "      <td>NaN</td>\n",
       "      <td>NaN</td>\n",
       "      <td>0.0</td>\n",
       "      <td>0.0</td>\n",
       "      <td>NaN</td>\n",
       "      <td>NaN</td>\n",
       "      <td>NaN</td>\n",
       "      <td>NaN</td>\n",
       "    </tr>\n",
       "    <tr>\n",
       "      <th>1</th>\n",
       "      <td>1077430</td>\n",
       "      <td>1314167</td>\n",
       "      <td>2500</td>\n",
       "      <td>2500</td>\n",
       "      <td>2500.0</td>\n",
       "      <td>60 months</td>\n",
       "      <td>15.27%</td>\n",
       "      <td>59.83</td>\n",
       "      <td>C</td>\n",
       "      <td>C4</td>\n",
       "      <td>...</td>\n",
       "      <td>NaN</td>\n",
       "      <td>NaN</td>\n",
       "      <td>NaN</td>\n",
       "      <td>NaN</td>\n",
       "      <td>0.0</td>\n",
       "      <td>0.0</td>\n",
       "      <td>NaN</td>\n",
       "      <td>NaN</td>\n",
       "      <td>NaN</td>\n",
       "      <td>NaN</td>\n",
       "    </tr>\n",
       "    <tr>\n",
       "      <th>2</th>\n",
       "      <td>1077175</td>\n",
       "      <td>1313524</td>\n",
       "      <td>2400</td>\n",
       "      <td>2400</td>\n",
       "      <td>2400.0</td>\n",
       "      <td>36 months</td>\n",
       "      <td>15.96%</td>\n",
       "      <td>84.33</td>\n",
       "      <td>C</td>\n",
       "      <td>C5</td>\n",
       "      <td>...</td>\n",
       "      <td>NaN</td>\n",
       "      <td>NaN</td>\n",
       "      <td>NaN</td>\n",
       "      <td>NaN</td>\n",
       "      <td>0.0</td>\n",
       "      <td>0.0</td>\n",
       "      <td>NaN</td>\n",
       "      <td>NaN</td>\n",
       "      <td>NaN</td>\n",
       "      <td>NaN</td>\n",
       "    </tr>\n",
       "    <tr>\n",
       "      <th>3</th>\n",
       "      <td>1076863</td>\n",
       "      <td>1277178</td>\n",
       "      <td>10000</td>\n",
       "      <td>10000</td>\n",
       "      <td>10000.0</td>\n",
       "      <td>36 months</td>\n",
       "      <td>13.49%</td>\n",
       "      <td>339.31</td>\n",
       "      <td>C</td>\n",
       "      <td>C1</td>\n",
       "      <td>...</td>\n",
       "      <td>NaN</td>\n",
       "      <td>NaN</td>\n",
       "      <td>NaN</td>\n",
       "      <td>NaN</td>\n",
       "      <td>0.0</td>\n",
       "      <td>0.0</td>\n",
       "      <td>NaN</td>\n",
       "      <td>NaN</td>\n",
       "      <td>NaN</td>\n",
       "      <td>NaN</td>\n",
       "    </tr>\n",
       "    <tr>\n",
       "      <th>4</th>\n",
       "      <td>1075358</td>\n",
       "      <td>1311748</td>\n",
       "      <td>3000</td>\n",
       "      <td>3000</td>\n",
       "      <td>3000.0</td>\n",
       "      <td>60 months</td>\n",
       "      <td>12.69%</td>\n",
       "      <td>67.79</td>\n",
       "      <td>B</td>\n",
       "      <td>B5</td>\n",
       "      <td>...</td>\n",
       "      <td>NaN</td>\n",
       "      <td>NaN</td>\n",
       "      <td>NaN</td>\n",
       "      <td>NaN</td>\n",
       "      <td>0.0</td>\n",
       "      <td>0.0</td>\n",
       "      <td>NaN</td>\n",
       "      <td>NaN</td>\n",
       "      <td>NaN</td>\n",
       "      <td>NaN</td>\n",
       "    </tr>\n",
       "  </tbody>\n",
       "</table>\n",
       "<p>5 rows × 111 columns</p>\n",
       "</div>"
      ],
      "text/plain": [
       "        id  member_id  loan_amnt  funded_amnt  funded_amnt_inv        term  \\\n",
       "0  1077501    1296599       5000         5000           4975.0   36 months   \n",
       "1  1077430    1314167       2500         2500           2500.0   60 months   \n",
       "2  1077175    1313524       2400         2400           2400.0   36 months   \n",
       "3  1076863    1277178      10000        10000          10000.0   36 months   \n",
       "4  1075358    1311748       3000         3000           3000.0   60 months   \n",
       "\n",
       "  int_rate  installment grade sub_grade  ... num_tl_90g_dpd_24m  \\\n",
       "0   10.65%       162.87     B        B2  ...                NaN   \n",
       "1   15.27%        59.83     C        C4  ...                NaN   \n",
       "2   15.96%        84.33     C        C5  ...                NaN   \n",
       "3   13.49%       339.31     C        C1  ...                NaN   \n",
       "4   12.69%        67.79     B        B5  ...                NaN   \n",
       "\n",
       "  num_tl_op_past_12m pct_tl_nvr_dlq  percent_bc_gt_75 pub_rec_bankruptcies  \\\n",
       "0                NaN            NaN               NaN                  0.0   \n",
       "1                NaN            NaN               NaN                  0.0   \n",
       "2                NaN            NaN               NaN                  0.0   \n",
       "3                NaN            NaN               NaN                  0.0   \n",
       "4                NaN            NaN               NaN                  0.0   \n",
       "\n",
       "  tax_liens tot_hi_cred_lim total_bal_ex_mort total_bc_limit  \\\n",
       "0       0.0             NaN               NaN            NaN   \n",
       "1       0.0             NaN               NaN            NaN   \n",
       "2       0.0             NaN               NaN            NaN   \n",
       "3       0.0             NaN               NaN            NaN   \n",
       "4       0.0             NaN               NaN            NaN   \n",
       "\n",
       "  total_il_high_credit_limit  \n",
       "0                        NaN  \n",
       "1                        NaN  \n",
       "2                        NaN  \n",
       "3                        NaN  \n",
       "4                        NaN  \n",
       "\n",
       "[5 rows x 111 columns]"
      ]
     },
     "execution_count": 2,
     "metadata": {},
     "output_type": "execute_result"
    }
   ],
   "source": [
    "df = pd.read_csv('loan.csv')\n",
    "df.head()"
   ]
  },
  {
   "cell_type": "code",
   "execution_count": 3,
   "id": "4840dc88-4f2a-4dff-9dac-39cb7ba0fed8",
   "metadata": {},
   "outputs": [
    {
     "name": "stdout",
     "output_type": "stream",
     "text": [
      "(39717, 111)\n"
     ]
    }
   ],
   "source": [
    "print(df.shape)\n"
   ]
  },
  {
   "cell_type": "markdown",
   "id": "56332dec-f607-4a1f-a848-1dfdc1a4737e",
   "metadata": {},
   "source": [
    "# Data Cleanup"
   ]
  },
  {
   "cell_type": "markdown",
   "id": "3a9d7d03-7a7f-402e-aaba-63e4807db868",
   "metadata": {},
   "source": [
    "### Remove all columns having all null"
   ]
  },
  {
   "cell_type": "code",
   "execution_count": 4,
   "id": "53f39fbd-e873-4e39-ad66-11b8bbc7b9a1",
   "metadata": {},
   "outputs": [],
   "source": [
    "df.isnull().sum()\n",
    "df.dropna(how='all',axis=1,inplace=True)"
   ]
  },
  {
   "cell_type": "code",
   "execution_count": 5,
   "id": "57438441-ceb4-4491-b7ae-ebd0d93022b4",
   "metadata": {},
   "outputs": [
    {
     "data": {
      "text/plain": [
       "['emp_title',\n",
       " 'desc',\n",
       " 'mths_since_last_delinq',\n",
       " 'mths_since_last_record',\n",
       " 'next_pymnt_d']"
      ]
     },
     "execution_count": 5,
     "metadata": {},
     "output_type": "execute_result"
    }
   ],
   "source": [
    "cols_nulls_per=df.isnull().sum()/df.shape[0]*100\n",
    "cols_to_drop = list(cols_nulls_per[cols_nulls_per>5].index)\n",
    "cols_to_drop"
   ]
  },
  {
   "cell_type": "markdown",
   "id": "5839af63-0535-4f3c-8a22-23eff9b0d87d",
   "metadata": {},
   "source": [
    "### Remove all columns with nulls>25%"
   ]
  },
  {
   "cell_type": "code",
   "execution_count": 6,
   "id": "2008cef6-5369-471f-b432-e35c7dffd9d6",
   "metadata": {},
   "outputs": [
    {
     "name": "stdout",
     "output_type": "stream",
     "text": [
      "['desc', 'mths_since_last_delinq', 'mths_since_last_record', 'next_pymnt_d']\n"
     ]
    }
   ],
   "source": [
    "cols_with_null_greater_than_twentyfive_per=list(cols_nulls_per[cols_nulls_per>25].index)\n",
    "print(cols_with_null_greater_than_twentyfive_per)"
   ]
  },
  {
   "cell_type": "code",
   "execution_count": 7,
   "id": "362d636e-9ba7-499a-9616-ef79eb04ddd4",
   "metadata": {},
   "outputs": [
    {
     "data": {
      "text/plain": [
       "(39717, 53)"
      ]
     },
     "execution_count": 7,
     "metadata": {},
     "output_type": "execute_result"
    }
   ],
   "source": [
    "df.drop(cols_with_null_greater_than_twentyfive_per,axis=1,inplace=True)\n",
    "df.shape"
   ]
  },
  {
   "cell_type": "markdown",
   "id": "72d5ed15-6c74-4695-8606-992decad261a",
   "metadata": {},
   "source": [
    "### Other columns having nulls"
   ]
  },
  {
   "cell_type": "code",
   "execution_count": 8,
   "id": "9a5823e4-82cd-4819-815c-458ecd131f32",
   "metadata": {},
   "outputs": [
    {
     "name": "stdout",
     "output_type": "stream",
     "text": [
      "emp_title                     2459\n",
      "emp_length                    1075\n",
      "title                           11\n",
      "revol_util                      50\n",
      "last_pymnt_d                    71\n",
      "last_credit_pull_d               2\n",
      "collections_12_mths_ex_med      56\n",
      "chargeoff_within_12_mths        56\n",
      "pub_rec_bankruptcies           697\n",
      "tax_liens                       39\n",
      "dtype: int64\n"
     ]
    }
   ],
   "source": [
    "null_columns = df.isnull().sum()\n",
    "null_columns[null_columns >0]\n",
    "null_columns = null_columns[null_columns >0]\n",
    "print(null_columns)"
   ]
  },
  {
   "cell_type": "markdown",
   "id": "92a91e04-d51f-40fa-8f2b-ab7e278e467a",
   "metadata": {},
   "source": [
    "### Removing all categorial columns were value counts are too much thus not useful"
   ]
  },
  {
   "cell_type": "code",
   "execution_count": 9,
   "id": "760a6090-21c3-4b85-8053-4923ad6bf960",
   "metadata": {},
   "outputs": [
    {
     "data": {
      "text/html": [
       "<div>\n",
       "<style scoped>\n",
       "    .dataframe tbody tr th:only-of-type {\n",
       "        vertical-align: middle;\n",
       "    }\n",
       "\n",
       "    .dataframe tbody tr th {\n",
       "        vertical-align: top;\n",
       "    }\n",
       "\n",
       "    .dataframe thead th {\n",
       "        text-align: right;\n",
       "    }\n",
       "</style>\n",
       "<table border=\"1\" class=\"dataframe\">\n",
       "  <thead>\n",
       "    <tr style=\"text-align: right;\">\n",
       "      <th></th>\n",
       "      <th>col_name</th>\n",
       "      <th>null_count</th>\n",
       "      <th>value_count</th>\n",
       "      <th>dtype</th>\n",
       "    </tr>\n",
       "  </thead>\n",
       "  <tbody>\n",
       "    <tr>\n",
       "      <th>0</th>\n",
       "      <td>id</td>\n",
       "      <td>0</td>\n",
       "      <td>39717</td>\n",
       "      <td>&lt;class 'numpy.int64'&gt;</td>\n",
       "    </tr>\n",
       "    <tr>\n",
       "      <th>1</th>\n",
       "      <td>member_id</td>\n",
       "      <td>0</td>\n",
       "      <td>39717</td>\n",
       "      <td>&lt;class 'numpy.int64'&gt;</td>\n",
       "    </tr>\n",
       "    <tr>\n",
       "      <th>2</th>\n",
       "      <td>loan_amnt</td>\n",
       "      <td>0</td>\n",
       "      <td>885</td>\n",
       "      <td>&lt;class 'numpy.int64'&gt;</td>\n",
       "    </tr>\n",
       "    <tr>\n",
       "      <th>3</th>\n",
       "      <td>funded_amnt</td>\n",
       "      <td>0</td>\n",
       "      <td>1041</td>\n",
       "      <td>&lt;class 'numpy.int64'&gt;</td>\n",
       "    </tr>\n",
       "    <tr>\n",
       "      <th>4</th>\n",
       "      <td>funded_amnt_inv</td>\n",
       "      <td>0</td>\n",
       "      <td>8205</td>\n",
       "      <td>&lt;class 'numpy.float64'&gt;</td>\n",
       "    </tr>\n",
       "    <tr>\n",
       "      <th>5</th>\n",
       "      <td>term</td>\n",
       "      <td>0</td>\n",
       "      <td>2</td>\n",
       "      <td>&lt;class 'str'&gt;</td>\n",
       "    </tr>\n",
       "    <tr>\n",
       "      <th>6</th>\n",
       "      <td>int_rate</td>\n",
       "      <td>0</td>\n",
       "      <td>371</td>\n",
       "      <td>&lt;class 'str'&gt;</td>\n",
       "    </tr>\n",
       "    <tr>\n",
       "      <th>7</th>\n",
       "      <td>installment</td>\n",
       "      <td>0</td>\n",
       "      <td>15383</td>\n",
       "      <td>&lt;class 'numpy.float64'&gt;</td>\n",
       "    </tr>\n",
       "    <tr>\n",
       "      <th>8</th>\n",
       "      <td>grade</td>\n",
       "      <td>0</td>\n",
       "      <td>7</td>\n",
       "      <td>&lt;class 'str'&gt;</td>\n",
       "    </tr>\n",
       "    <tr>\n",
       "      <th>9</th>\n",
       "      <td>sub_grade</td>\n",
       "      <td>0</td>\n",
       "      <td>35</td>\n",
       "      <td>&lt;class 'str'&gt;</td>\n",
       "    </tr>\n",
       "    <tr>\n",
       "      <th>10</th>\n",
       "      <td>emp_title</td>\n",
       "      <td>2459</td>\n",
       "      <td>28820</td>\n",
       "      <td>&lt;class 'float'&gt;</td>\n",
       "    </tr>\n",
       "    <tr>\n",
       "      <th>11</th>\n",
       "      <td>emp_length</td>\n",
       "      <td>1075</td>\n",
       "      <td>11</td>\n",
       "      <td>&lt;class 'str'&gt;</td>\n",
       "    </tr>\n",
       "    <tr>\n",
       "      <th>12</th>\n",
       "      <td>home_ownership</td>\n",
       "      <td>0</td>\n",
       "      <td>5</td>\n",
       "      <td>&lt;class 'str'&gt;</td>\n",
       "    </tr>\n",
       "    <tr>\n",
       "      <th>13</th>\n",
       "      <td>annual_inc</td>\n",
       "      <td>0</td>\n",
       "      <td>5318</td>\n",
       "      <td>&lt;class 'numpy.float64'&gt;</td>\n",
       "    </tr>\n",
       "    <tr>\n",
       "      <th>14</th>\n",
       "      <td>verification_status</td>\n",
       "      <td>0</td>\n",
       "      <td>3</td>\n",
       "      <td>&lt;class 'str'&gt;</td>\n",
       "    </tr>\n",
       "    <tr>\n",
       "      <th>15</th>\n",
       "      <td>issue_d</td>\n",
       "      <td>0</td>\n",
       "      <td>55</td>\n",
       "      <td>&lt;class 'str'&gt;</td>\n",
       "    </tr>\n",
       "    <tr>\n",
       "      <th>16</th>\n",
       "      <td>loan_status</td>\n",
       "      <td>0</td>\n",
       "      <td>3</td>\n",
       "      <td>&lt;class 'str'&gt;</td>\n",
       "    </tr>\n",
       "    <tr>\n",
       "      <th>17</th>\n",
       "      <td>pymnt_plan</td>\n",
       "      <td>0</td>\n",
       "      <td>1</td>\n",
       "      <td>&lt;class 'str'&gt;</td>\n",
       "    </tr>\n",
       "    <tr>\n",
       "      <th>18</th>\n",
       "      <td>url</td>\n",
       "      <td>0</td>\n",
       "      <td>39717</td>\n",
       "      <td>&lt;class 'str'&gt;</td>\n",
       "    </tr>\n",
       "    <tr>\n",
       "      <th>19</th>\n",
       "      <td>purpose</td>\n",
       "      <td>0</td>\n",
       "      <td>14</td>\n",
       "      <td>&lt;class 'str'&gt;</td>\n",
       "    </tr>\n",
       "    <tr>\n",
       "      <th>20</th>\n",
       "      <td>title</td>\n",
       "      <td>11</td>\n",
       "      <td>19615</td>\n",
       "      <td>&lt;class 'str'&gt;</td>\n",
       "    </tr>\n",
       "    <tr>\n",
       "      <th>21</th>\n",
       "      <td>zip_code</td>\n",
       "      <td>0</td>\n",
       "      <td>823</td>\n",
       "      <td>&lt;class 'str'&gt;</td>\n",
       "    </tr>\n",
       "    <tr>\n",
       "      <th>22</th>\n",
       "      <td>addr_state</td>\n",
       "      <td>0</td>\n",
       "      <td>50</td>\n",
       "      <td>&lt;class 'str'&gt;</td>\n",
       "    </tr>\n",
       "    <tr>\n",
       "      <th>23</th>\n",
       "      <td>dti</td>\n",
       "      <td>0</td>\n",
       "      <td>2868</td>\n",
       "      <td>&lt;class 'numpy.float64'&gt;</td>\n",
       "    </tr>\n",
       "    <tr>\n",
       "      <th>24</th>\n",
       "      <td>delinq_2yrs</td>\n",
       "      <td>0</td>\n",
       "      <td>11</td>\n",
       "      <td>&lt;class 'numpy.int64'&gt;</td>\n",
       "    </tr>\n",
       "    <tr>\n",
       "      <th>25</th>\n",
       "      <td>earliest_cr_line</td>\n",
       "      <td>0</td>\n",
       "      <td>526</td>\n",
       "      <td>&lt;class 'str'&gt;</td>\n",
       "    </tr>\n",
       "    <tr>\n",
       "      <th>26</th>\n",
       "      <td>inq_last_6mths</td>\n",
       "      <td>0</td>\n",
       "      <td>9</td>\n",
       "      <td>&lt;class 'numpy.int64'&gt;</td>\n",
       "    </tr>\n",
       "    <tr>\n",
       "      <th>27</th>\n",
       "      <td>open_acc</td>\n",
       "      <td>0</td>\n",
       "      <td>40</td>\n",
       "      <td>&lt;class 'numpy.int64'&gt;</td>\n",
       "    </tr>\n",
       "    <tr>\n",
       "      <th>28</th>\n",
       "      <td>pub_rec</td>\n",
       "      <td>0</td>\n",
       "      <td>5</td>\n",
       "      <td>&lt;class 'numpy.int64'&gt;</td>\n",
       "    </tr>\n",
       "    <tr>\n",
       "      <th>29</th>\n",
       "      <td>revol_bal</td>\n",
       "      <td>0</td>\n",
       "      <td>21711</td>\n",
       "      <td>&lt;class 'numpy.int64'&gt;</td>\n",
       "    </tr>\n",
       "    <tr>\n",
       "      <th>30</th>\n",
       "      <td>revol_util</td>\n",
       "      <td>50</td>\n",
       "      <td>1089</td>\n",
       "      <td>&lt;class 'str'&gt;</td>\n",
       "    </tr>\n",
       "    <tr>\n",
       "      <th>31</th>\n",
       "      <td>total_acc</td>\n",
       "      <td>0</td>\n",
       "      <td>82</td>\n",
       "      <td>&lt;class 'numpy.int64'&gt;</td>\n",
       "    </tr>\n",
       "    <tr>\n",
       "      <th>32</th>\n",
       "      <td>initial_list_status</td>\n",
       "      <td>0</td>\n",
       "      <td>1</td>\n",
       "      <td>&lt;class 'str'&gt;</td>\n",
       "    </tr>\n",
       "    <tr>\n",
       "      <th>33</th>\n",
       "      <td>out_prncp</td>\n",
       "      <td>0</td>\n",
       "      <td>1137</td>\n",
       "      <td>&lt;class 'numpy.float64'&gt;</td>\n",
       "    </tr>\n",
       "    <tr>\n",
       "      <th>34</th>\n",
       "      <td>out_prncp_inv</td>\n",
       "      <td>0</td>\n",
       "      <td>1138</td>\n",
       "      <td>&lt;class 'numpy.float64'&gt;</td>\n",
       "    </tr>\n",
       "    <tr>\n",
       "      <th>35</th>\n",
       "      <td>total_pymnt</td>\n",
       "      <td>0</td>\n",
       "      <td>37850</td>\n",
       "      <td>&lt;class 'numpy.float64'&gt;</td>\n",
       "    </tr>\n",
       "    <tr>\n",
       "      <th>36</th>\n",
       "      <td>total_pymnt_inv</td>\n",
       "      <td>0</td>\n",
       "      <td>37518</td>\n",
       "      <td>&lt;class 'numpy.float64'&gt;</td>\n",
       "    </tr>\n",
       "    <tr>\n",
       "      <th>37</th>\n",
       "      <td>total_rec_prncp</td>\n",
       "      <td>0</td>\n",
       "      <td>7976</td>\n",
       "      <td>&lt;class 'numpy.float64'&gt;</td>\n",
       "    </tr>\n",
       "    <tr>\n",
       "      <th>38</th>\n",
       "      <td>total_rec_int</td>\n",
       "      <td>0</td>\n",
       "      <td>35148</td>\n",
       "      <td>&lt;class 'numpy.float64'&gt;</td>\n",
       "    </tr>\n",
       "    <tr>\n",
       "      <th>39</th>\n",
       "      <td>total_rec_late_fee</td>\n",
       "      <td>0</td>\n",
       "      <td>1356</td>\n",
       "      <td>&lt;class 'numpy.float64'&gt;</td>\n",
       "    </tr>\n",
       "    <tr>\n",
       "      <th>40</th>\n",
       "      <td>recoveries</td>\n",
       "      <td>0</td>\n",
       "      <td>4040</td>\n",
       "      <td>&lt;class 'numpy.float64'&gt;</td>\n",
       "    </tr>\n",
       "    <tr>\n",
       "      <th>41</th>\n",
       "      <td>collection_recovery_fee</td>\n",
       "      <td>0</td>\n",
       "      <td>2616</td>\n",
       "      <td>&lt;class 'numpy.float64'&gt;</td>\n",
       "    </tr>\n",
       "    <tr>\n",
       "      <th>42</th>\n",
       "      <td>last_pymnt_d</td>\n",
       "      <td>71</td>\n",
       "      <td>101</td>\n",
       "      <td>&lt;class 'str'&gt;</td>\n",
       "    </tr>\n",
       "    <tr>\n",
       "      <th>43</th>\n",
       "      <td>last_pymnt_amnt</td>\n",
       "      <td>0</td>\n",
       "      <td>34930</td>\n",
       "      <td>&lt;class 'numpy.float64'&gt;</td>\n",
       "    </tr>\n",
       "    <tr>\n",
       "      <th>44</th>\n",
       "      <td>last_credit_pull_d</td>\n",
       "      <td>2</td>\n",
       "      <td>106</td>\n",
       "      <td>&lt;class 'str'&gt;</td>\n",
       "    </tr>\n",
       "    <tr>\n",
       "      <th>45</th>\n",
       "      <td>collections_12_mths_ex_med</td>\n",
       "      <td>56</td>\n",
       "      <td>1</td>\n",
       "      <td>&lt;class 'numpy.float64'&gt;</td>\n",
       "    </tr>\n",
       "    <tr>\n",
       "      <th>46</th>\n",
       "      <td>policy_code</td>\n",
       "      <td>0</td>\n",
       "      <td>1</td>\n",
       "      <td>&lt;class 'numpy.int64'&gt;</td>\n",
       "    </tr>\n",
       "    <tr>\n",
       "      <th>47</th>\n",
       "      <td>application_type</td>\n",
       "      <td>0</td>\n",
       "      <td>1</td>\n",
       "      <td>&lt;class 'str'&gt;</td>\n",
       "    </tr>\n",
       "    <tr>\n",
       "      <th>48</th>\n",
       "      <td>acc_now_delinq</td>\n",
       "      <td>0</td>\n",
       "      <td>1</td>\n",
       "      <td>&lt;class 'numpy.int64'&gt;</td>\n",
       "    </tr>\n",
       "    <tr>\n",
       "      <th>49</th>\n",
       "      <td>chargeoff_within_12_mths</td>\n",
       "      <td>56</td>\n",
       "      <td>1</td>\n",
       "      <td>&lt;class 'numpy.float64'&gt;</td>\n",
       "    </tr>\n",
       "    <tr>\n",
       "      <th>50</th>\n",
       "      <td>delinq_amnt</td>\n",
       "      <td>0</td>\n",
       "      <td>1</td>\n",
       "      <td>&lt;class 'numpy.int64'&gt;</td>\n",
       "    </tr>\n",
       "    <tr>\n",
       "      <th>51</th>\n",
       "      <td>pub_rec_bankruptcies</td>\n",
       "      <td>697</td>\n",
       "      <td>3</td>\n",
       "      <td>&lt;class 'numpy.float64'&gt;</td>\n",
       "    </tr>\n",
       "    <tr>\n",
       "      <th>52</th>\n",
       "      <td>tax_liens</td>\n",
       "      <td>39</td>\n",
       "      <td>1</td>\n",
       "      <td>&lt;class 'numpy.float64'&gt;</td>\n",
       "    </tr>\n",
       "  </tbody>\n",
       "</table>\n",
       "</div>"
      ],
      "text/plain": [
       "                      col_name  null_count  value_count  \\\n",
       "0                           id           0        39717   \n",
       "1                    member_id           0        39717   \n",
       "2                    loan_amnt           0          885   \n",
       "3                  funded_amnt           0         1041   \n",
       "4              funded_amnt_inv           0         8205   \n",
       "5                         term           0            2   \n",
       "6                     int_rate           0          371   \n",
       "7                  installment           0        15383   \n",
       "8                        grade           0            7   \n",
       "9                    sub_grade           0           35   \n",
       "10                   emp_title        2459        28820   \n",
       "11                  emp_length        1075           11   \n",
       "12              home_ownership           0            5   \n",
       "13                  annual_inc           0         5318   \n",
       "14         verification_status           0            3   \n",
       "15                     issue_d           0           55   \n",
       "16                 loan_status           0            3   \n",
       "17                  pymnt_plan           0            1   \n",
       "18                         url           0        39717   \n",
       "19                     purpose           0           14   \n",
       "20                       title          11        19615   \n",
       "21                    zip_code           0          823   \n",
       "22                  addr_state           0           50   \n",
       "23                         dti           0         2868   \n",
       "24                 delinq_2yrs           0           11   \n",
       "25            earliest_cr_line           0          526   \n",
       "26              inq_last_6mths           0            9   \n",
       "27                    open_acc           0           40   \n",
       "28                     pub_rec           0            5   \n",
       "29                   revol_bal           0        21711   \n",
       "30                  revol_util          50         1089   \n",
       "31                   total_acc           0           82   \n",
       "32         initial_list_status           0            1   \n",
       "33                   out_prncp           0         1137   \n",
       "34               out_prncp_inv           0         1138   \n",
       "35                 total_pymnt           0        37850   \n",
       "36             total_pymnt_inv           0        37518   \n",
       "37             total_rec_prncp           0         7976   \n",
       "38               total_rec_int           0        35148   \n",
       "39          total_rec_late_fee           0         1356   \n",
       "40                  recoveries           0         4040   \n",
       "41     collection_recovery_fee           0         2616   \n",
       "42                last_pymnt_d          71          101   \n",
       "43             last_pymnt_amnt           0        34930   \n",
       "44          last_credit_pull_d           2          106   \n",
       "45  collections_12_mths_ex_med          56            1   \n",
       "46                 policy_code           0            1   \n",
       "47            application_type           0            1   \n",
       "48              acc_now_delinq           0            1   \n",
       "49    chargeoff_within_12_mths          56            1   \n",
       "50                 delinq_amnt           0            1   \n",
       "51        pub_rec_bankruptcies         697            3   \n",
       "52                   tax_liens          39            1   \n",
       "\n",
       "                      dtype  \n",
       "0     <class 'numpy.int64'>  \n",
       "1     <class 'numpy.int64'>  \n",
       "2     <class 'numpy.int64'>  \n",
       "3     <class 'numpy.int64'>  \n",
       "4   <class 'numpy.float64'>  \n",
       "5             <class 'str'>  \n",
       "6             <class 'str'>  \n",
       "7   <class 'numpy.float64'>  \n",
       "8             <class 'str'>  \n",
       "9             <class 'str'>  \n",
       "10          <class 'float'>  \n",
       "11            <class 'str'>  \n",
       "12            <class 'str'>  \n",
       "13  <class 'numpy.float64'>  \n",
       "14            <class 'str'>  \n",
       "15            <class 'str'>  \n",
       "16            <class 'str'>  \n",
       "17            <class 'str'>  \n",
       "18            <class 'str'>  \n",
       "19            <class 'str'>  \n",
       "20            <class 'str'>  \n",
       "21            <class 'str'>  \n",
       "22            <class 'str'>  \n",
       "23  <class 'numpy.float64'>  \n",
       "24    <class 'numpy.int64'>  \n",
       "25            <class 'str'>  \n",
       "26    <class 'numpy.int64'>  \n",
       "27    <class 'numpy.int64'>  \n",
       "28    <class 'numpy.int64'>  \n",
       "29    <class 'numpy.int64'>  \n",
       "30            <class 'str'>  \n",
       "31    <class 'numpy.int64'>  \n",
       "32            <class 'str'>  \n",
       "33  <class 'numpy.float64'>  \n",
       "34  <class 'numpy.float64'>  \n",
       "35  <class 'numpy.float64'>  \n",
       "36  <class 'numpy.float64'>  \n",
       "37  <class 'numpy.float64'>  \n",
       "38  <class 'numpy.float64'>  \n",
       "39  <class 'numpy.float64'>  \n",
       "40  <class 'numpy.float64'>  \n",
       "41  <class 'numpy.float64'>  \n",
       "42            <class 'str'>  \n",
       "43  <class 'numpy.float64'>  \n",
       "44            <class 'str'>  \n",
       "45  <class 'numpy.float64'>  \n",
       "46    <class 'numpy.int64'>  \n",
       "47            <class 'str'>  \n",
       "48    <class 'numpy.int64'>  \n",
       "49  <class 'numpy.float64'>  \n",
       "50    <class 'numpy.int64'>  \n",
       "51  <class 'numpy.float64'>  \n",
       "52  <class 'numpy.float64'>  "
      ]
     },
     "execution_count": 9,
     "metadata": {},
     "output_type": "execute_result"
    }
   ],
   "source": [
    "columns = list(df.columns)\n",
    "df_temp = pd.DataFrame({'col_name':columns,'null_count':list(df.isnull().sum().values)})\n",
    "df_temp['value_count'] = df_temp['col_name'].apply(lambda x:df[x].value_counts().size)\n",
    "df_temp['dtype'] = df_temp['col_name'].apply(lambda x:type(df[x][0]))\n",
    "df_temp"
   ]
  },
  {
   "cell_type": "code",
   "execution_count": 10,
   "id": "75ac61e7-ce6a-41d6-a255-50a42d114653",
   "metadata": {},
   "outputs": [],
   "source": [
    "df.drop(['emp_title','title','id','member_id','url'],axis=1,inplace=True)"
   ]
  },
  {
   "cell_type": "code",
   "execution_count": 11,
   "id": "e0f4961f-2e1d-4066-857d-73b9b559a292",
   "metadata": {},
   "outputs": [
    {
     "data": {
      "text/plain": [
       "(39717, 48)"
      ]
     },
     "execution_count": 11,
     "metadata": {},
     "output_type": "execute_result"
    }
   ],
   "source": [
    "df.shape"
   ]
  },
  {
   "cell_type": "markdown",
   "id": "ca361867-0bdf-4c1d-b7b9-872dac58a6c3",
   "metadata": {},
   "source": [
    "### Removing all columns were value counts is just one"
   ]
  },
  {
   "cell_type": "code",
   "execution_count": 12,
   "id": "3fe7e833-157e-4d86-a920-65a2b7a2cf5b",
   "metadata": {},
   "outputs": [
    {
     "data": {
      "text/html": [
       "<div>\n",
       "<style scoped>\n",
       "    .dataframe tbody tr th:only-of-type {\n",
       "        vertical-align: middle;\n",
       "    }\n",
       "\n",
       "    .dataframe tbody tr th {\n",
       "        vertical-align: top;\n",
       "    }\n",
       "\n",
       "    .dataframe thead th {\n",
       "        text-align: right;\n",
       "    }\n",
       "</style>\n",
       "<table border=\"1\" class=\"dataframe\">\n",
       "  <thead>\n",
       "    <tr style=\"text-align: right;\">\n",
       "      <th></th>\n",
       "      <th>col_name</th>\n",
       "      <th>null_count</th>\n",
       "      <th>value_count</th>\n",
       "      <th>dtype</th>\n",
       "    </tr>\n",
       "  </thead>\n",
       "  <tbody>\n",
       "    <tr>\n",
       "      <th>17</th>\n",
       "      <td>pymnt_plan</td>\n",
       "      <td>0</td>\n",
       "      <td>1</td>\n",
       "      <td>&lt;class 'str'&gt;</td>\n",
       "    </tr>\n",
       "    <tr>\n",
       "      <th>32</th>\n",
       "      <td>initial_list_status</td>\n",
       "      <td>0</td>\n",
       "      <td>1</td>\n",
       "      <td>&lt;class 'str'&gt;</td>\n",
       "    </tr>\n",
       "    <tr>\n",
       "      <th>45</th>\n",
       "      <td>collections_12_mths_ex_med</td>\n",
       "      <td>56</td>\n",
       "      <td>1</td>\n",
       "      <td>&lt;class 'numpy.float64'&gt;</td>\n",
       "    </tr>\n",
       "    <tr>\n",
       "      <th>46</th>\n",
       "      <td>policy_code</td>\n",
       "      <td>0</td>\n",
       "      <td>1</td>\n",
       "      <td>&lt;class 'numpy.int64'&gt;</td>\n",
       "    </tr>\n",
       "    <tr>\n",
       "      <th>47</th>\n",
       "      <td>application_type</td>\n",
       "      <td>0</td>\n",
       "      <td>1</td>\n",
       "      <td>&lt;class 'str'&gt;</td>\n",
       "    </tr>\n",
       "    <tr>\n",
       "      <th>48</th>\n",
       "      <td>acc_now_delinq</td>\n",
       "      <td>0</td>\n",
       "      <td>1</td>\n",
       "      <td>&lt;class 'numpy.int64'&gt;</td>\n",
       "    </tr>\n",
       "    <tr>\n",
       "      <th>49</th>\n",
       "      <td>chargeoff_within_12_mths</td>\n",
       "      <td>56</td>\n",
       "      <td>1</td>\n",
       "      <td>&lt;class 'numpy.float64'&gt;</td>\n",
       "    </tr>\n",
       "    <tr>\n",
       "      <th>50</th>\n",
       "      <td>delinq_amnt</td>\n",
       "      <td>0</td>\n",
       "      <td>1</td>\n",
       "      <td>&lt;class 'numpy.int64'&gt;</td>\n",
       "    </tr>\n",
       "    <tr>\n",
       "      <th>52</th>\n",
       "      <td>tax_liens</td>\n",
       "      <td>39</td>\n",
       "      <td>1</td>\n",
       "      <td>&lt;class 'numpy.float64'&gt;</td>\n",
       "    </tr>\n",
       "  </tbody>\n",
       "</table>\n",
       "</div>"
      ],
      "text/plain": [
       "                      col_name  null_count  value_count  \\\n",
       "17                  pymnt_plan           0            1   \n",
       "32         initial_list_status           0            1   \n",
       "45  collections_12_mths_ex_med          56            1   \n",
       "46                 policy_code           0            1   \n",
       "47            application_type           0            1   \n",
       "48              acc_now_delinq           0            1   \n",
       "49    chargeoff_within_12_mths          56            1   \n",
       "50                 delinq_amnt           0            1   \n",
       "52                   tax_liens          39            1   \n",
       "\n",
       "                      dtype  \n",
       "17            <class 'str'>  \n",
       "32            <class 'str'>  \n",
       "45  <class 'numpy.float64'>  \n",
       "46    <class 'numpy.int64'>  \n",
       "47            <class 'str'>  \n",
       "48    <class 'numpy.int64'>  \n",
       "49  <class 'numpy.float64'>  \n",
       "50    <class 'numpy.int64'>  \n",
       "52  <class 'numpy.float64'>  "
      ]
     },
     "execution_count": 12,
     "metadata": {},
     "output_type": "execute_result"
    }
   ],
   "source": [
    "df_temp1 = df_temp[df_temp['value_count']==1]\n",
    "df_temp1"
   ]
  },
  {
   "cell_type": "code",
   "execution_count": 13,
   "id": "53a7827c-b460-42a6-be3d-ed691f799a05",
   "metadata": {},
   "outputs": [
    {
     "data": {
      "text/plain": [
       "['pymnt_plan',\n",
       " 'initial_list_status',\n",
       " 'collections_12_mths_ex_med',\n",
       " 'policy_code',\n",
       " 'application_type',\n",
       " 'acc_now_delinq',\n",
       " 'chargeoff_within_12_mths',\n",
       " 'delinq_amnt',\n",
       " 'tax_liens']"
      ]
     },
     "execution_count": 13,
     "metadata": {},
     "output_type": "execute_result"
    }
   ],
   "source": [
    "list(df_temp1['col_name'].values)"
   ]
  },
  {
   "cell_type": "code",
   "execution_count": 14,
   "id": "a7158b42-b9a9-4f87-8acf-31769991391b",
   "metadata": {},
   "outputs": [],
   "source": [
    "df.drop(list(df_temp1['col_name'].values),axis=1,inplace=True)"
   ]
  },
  {
   "cell_type": "code",
   "execution_count": 15,
   "id": "cf3545f3-e27b-4fb8-b926-ca7940880067",
   "metadata": {},
   "outputs": [
    {
     "data": {
      "text/plain": [
       "(39717, 39)"
      ]
     },
     "execution_count": 15,
     "metadata": {},
     "output_type": "execute_result"
    }
   ],
   "source": [
    "df.shape\n"
   ]
  },
  {
   "cell_type": "markdown",
   "id": "14ee39c4-c660-46b3-aa83-8da78e3539a6",
   "metadata": {},
   "source": [
    "### Business needs to forcast target variable 'loan_status' wrt variables we have before client is onboarded,thus removing columns were data is generated only ones client is onboarded"
   ]
  },
  {
   "cell_type": "code",
   "execution_count": 16,
   "id": "8c7f5735-863b-438a-b2b6-ff168430b9b2",
   "metadata": {},
   "outputs": [
    {
     "data": {
      "text/html": [
       "<div>\n",
       "<style scoped>\n",
       "    .dataframe tbody tr th:only-of-type {\n",
       "        vertical-align: middle;\n",
       "    }\n",
       "\n",
       "    .dataframe tbody tr th {\n",
       "        vertical-align: top;\n",
       "    }\n",
       "\n",
       "    .dataframe thead th {\n",
       "        text-align: right;\n",
       "    }\n",
       "</style>\n",
       "<table border=\"1\" class=\"dataframe\">\n",
       "  <thead>\n",
       "    <tr style=\"text-align: right;\">\n",
       "      <th></th>\n",
       "      <th>issue_d</th>\n",
       "      <th>last_credit_pull_d</th>\n",
       "      <th>earliest_cr_line</th>\n",
       "      <th>out_prncp</th>\n",
       "      <th>out_prncp_inv</th>\n",
       "      <th>total_pymnt</th>\n",
       "      <th>total_pymnt_inv</th>\n",
       "      <th>total_rec_prncp</th>\n",
       "      <th>total_rec_int</th>\n",
       "      <th>total_rec_late_fee</th>\n",
       "      <th>recoveries</th>\n",
       "      <th>collection_recovery_fee</th>\n",
       "      <th>last_pymnt_d</th>\n",
       "      <th>last_pymnt_amnt</th>\n",
       "      <th>last_credit_pull_d</th>\n",
       "      <th>revol_bal</th>\n",
       "      <th>revol_util</th>\n",
       "    </tr>\n",
       "  </thead>\n",
       "  <tbody>\n",
       "    <tr>\n",
       "      <th>0</th>\n",
       "      <td>Dec-11</td>\n",
       "      <td>May-16</td>\n",
       "      <td>Jan-85</td>\n",
       "      <td>0.00</td>\n",
       "      <td>0.00</td>\n",
       "      <td>5863.155187</td>\n",
       "      <td>5833.84</td>\n",
       "      <td>5000.00</td>\n",
       "      <td>863.16</td>\n",
       "      <td>0.00</td>\n",
       "      <td>0.00</td>\n",
       "      <td>0.00</td>\n",
       "      <td>Jan-15</td>\n",
       "      <td>171.62</td>\n",
       "      <td>May-16</td>\n",
       "      <td>13648</td>\n",
       "      <td>83.70%</td>\n",
       "    </tr>\n",
       "    <tr>\n",
       "      <th>1</th>\n",
       "      <td>Dec-11</td>\n",
       "      <td>Sep-13</td>\n",
       "      <td>Apr-99</td>\n",
       "      <td>0.00</td>\n",
       "      <td>0.00</td>\n",
       "      <td>1008.710000</td>\n",
       "      <td>1008.71</td>\n",
       "      <td>456.46</td>\n",
       "      <td>435.17</td>\n",
       "      <td>0.00</td>\n",
       "      <td>117.08</td>\n",
       "      <td>1.11</td>\n",
       "      <td>Apr-13</td>\n",
       "      <td>119.66</td>\n",
       "      <td>Sep-13</td>\n",
       "      <td>1687</td>\n",
       "      <td>9.40%</td>\n",
       "    </tr>\n",
       "    <tr>\n",
       "      <th>2</th>\n",
       "      <td>Dec-11</td>\n",
       "      <td>May-16</td>\n",
       "      <td>Nov-01</td>\n",
       "      <td>0.00</td>\n",
       "      <td>0.00</td>\n",
       "      <td>3005.666844</td>\n",
       "      <td>3005.67</td>\n",
       "      <td>2400.00</td>\n",
       "      <td>605.67</td>\n",
       "      <td>0.00</td>\n",
       "      <td>0.00</td>\n",
       "      <td>0.00</td>\n",
       "      <td>Jun-14</td>\n",
       "      <td>649.91</td>\n",
       "      <td>May-16</td>\n",
       "      <td>2956</td>\n",
       "      <td>98.50%</td>\n",
       "    </tr>\n",
       "    <tr>\n",
       "      <th>3</th>\n",
       "      <td>Dec-11</td>\n",
       "      <td>Apr-16</td>\n",
       "      <td>Feb-96</td>\n",
       "      <td>0.00</td>\n",
       "      <td>0.00</td>\n",
       "      <td>12231.890000</td>\n",
       "      <td>12231.89</td>\n",
       "      <td>10000.00</td>\n",
       "      <td>2214.92</td>\n",
       "      <td>16.97</td>\n",
       "      <td>0.00</td>\n",
       "      <td>0.00</td>\n",
       "      <td>Jan-15</td>\n",
       "      <td>357.48</td>\n",
       "      <td>Apr-16</td>\n",
       "      <td>5598</td>\n",
       "      <td>21%</td>\n",
       "    </tr>\n",
       "    <tr>\n",
       "      <th>4</th>\n",
       "      <td>Dec-11</td>\n",
       "      <td>May-16</td>\n",
       "      <td>Jan-96</td>\n",
       "      <td>524.06</td>\n",
       "      <td>524.06</td>\n",
       "      <td>3513.330000</td>\n",
       "      <td>3513.33</td>\n",
       "      <td>2475.94</td>\n",
       "      <td>1037.39</td>\n",
       "      <td>0.00</td>\n",
       "      <td>0.00</td>\n",
       "      <td>0.00</td>\n",
       "      <td>May-16</td>\n",
       "      <td>67.79</td>\n",
       "      <td>May-16</td>\n",
       "      <td>27783</td>\n",
       "      <td>53.90%</td>\n",
       "    </tr>\n",
       "    <tr>\n",
       "      <th>...</th>\n",
       "      <td>...</td>\n",
       "      <td>...</td>\n",
       "      <td>...</td>\n",
       "      <td>...</td>\n",
       "      <td>...</td>\n",
       "      <td>...</td>\n",
       "      <td>...</td>\n",
       "      <td>...</td>\n",
       "      <td>...</td>\n",
       "      <td>...</td>\n",
       "      <td>...</td>\n",
       "      <td>...</td>\n",
       "      <td>...</td>\n",
       "      <td>...</td>\n",
       "      <td>...</td>\n",
       "      <td>...</td>\n",
       "      <td>...</td>\n",
       "    </tr>\n",
       "    <tr>\n",
       "      <th>39712</th>\n",
       "      <td>Jul-07</td>\n",
       "      <td>Jun-10</td>\n",
       "      <td>Nov-90</td>\n",
       "      <td>0.00</td>\n",
       "      <td>0.00</td>\n",
       "      <td>2822.969293</td>\n",
       "      <td>1213.88</td>\n",
       "      <td>2500.00</td>\n",
       "      <td>322.97</td>\n",
       "      <td>0.00</td>\n",
       "      <td>0.00</td>\n",
       "      <td>0.00</td>\n",
       "      <td>Jul-10</td>\n",
       "      <td>80.90</td>\n",
       "      <td>Jun-10</td>\n",
       "      <td>7274</td>\n",
       "      <td>13.10%</td>\n",
       "    </tr>\n",
       "    <tr>\n",
       "      <th>39713</th>\n",
       "      <td>Jul-07</td>\n",
       "      <td>Jul-10</td>\n",
       "      <td>Dec-86</td>\n",
       "      <td>0.00</td>\n",
       "      <td>0.00</td>\n",
       "      <td>9913.491822</td>\n",
       "      <td>1020.51</td>\n",
       "      <td>8500.00</td>\n",
       "      <td>1413.49</td>\n",
       "      <td>0.00</td>\n",
       "      <td>0.00</td>\n",
       "      <td>0.00</td>\n",
       "      <td>Jul-10</td>\n",
       "      <td>281.94</td>\n",
       "      <td>Jul-10</td>\n",
       "      <td>8847</td>\n",
       "      <td>26.90%</td>\n",
       "    </tr>\n",
       "    <tr>\n",
       "      <th>39714</th>\n",
       "      <td>Jul-07</td>\n",
       "      <td>Jun-07</td>\n",
       "      <td>Oct-98</td>\n",
       "      <td>0.00</td>\n",
       "      <td>0.00</td>\n",
       "      <td>5272.161128</td>\n",
       "      <td>1397.12</td>\n",
       "      <td>5000.00</td>\n",
       "      <td>272.16</td>\n",
       "      <td>0.00</td>\n",
       "      <td>0.00</td>\n",
       "      <td>0.00</td>\n",
       "      <td>Apr-08</td>\n",
       "      <td>0.00</td>\n",
       "      <td>Jun-07</td>\n",
       "      <td>9698</td>\n",
       "      <td>19.40%</td>\n",
       "    </tr>\n",
       "    <tr>\n",
       "      <th>39715</th>\n",
       "      <td>Jul-07</td>\n",
       "      <td>Jun-07</td>\n",
       "      <td>Nov-88</td>\n",
       "      <td>0.00</td>\n",
       "      <td>0.00</td>\n",
       "      <td>5174.198551</td>\n",
       "      <td>672.66</td>\n",
       "      <td>5000.00</td>\n",
       "      <td>174.20</td>\n",
       "      <td>0.00</td>\n",
       "      <td>0.00</td>\n",
       "      <td>0.00</td>\n",
       "      <td>Jan-08</td>\n",
       "      <td>0.00</td>\n",
       "      <td>Jun-07</td>\n",
       "      <td>85607</td>\n",
       "      <td>0.70%</td>\n",
       "    </tr>\n",
       "    <tr>\n",
       "      <th>39716</th>\n",
       "      <td>Jun-07</td>\n",
       "      <td>Jun-10</td>\n",
       "      <td>Oct-03</td>\n",
       "      <td>0.00</td>\n",
       "      <td>0.00</td>\n",
       "      <td>9195.263334</td>\n",
       "      <td>980.83</td>\n",
       "      <td>7500.00</td>\n",
       "      <td>1695.26</td>\n",
       "      <td>0.00</td>\n",
       "      <td>0.00</td>\n",
       "      <td>0.00</td>\n",
       "      <td>Jun-10</td>\n",
       "      <td>256.59</td>\n",
       "      <td>Jun-10</td>\n",
       "      <td>4175</td>\n",
       "      <td>51.50%</td>\n",
       "    </tr>\n",
       "  </tbody>\n",
       "</table>\n",
       "<p>39717 rows × 17 columns</p>\n",
       "</div>"
      ],
      "text/plain": [
       "      issue_d last_credit_pull_d earliest_cr_line  out_prncp  out_prncp_inv  \\\n",
       "0      Dec-11             May-16           Jan-85       0.00           0.00   \n",
       "1      Dec-11             Sep-13           Apr-99       0.00           0.00   \n",
       "2      Dec-11             May-16           Nov-01       0.00           0.00   \n",
       "3      Dec-11             Apr-16           Feb-96       0.00           0.00   \n",
       "4      Dec-11             May-16           Jan-96     524.06         524.06   \n",
       "...       ...                ...              ...        ...            ...   \n",
       "39712  Jul-07             Jun-10           Nov-90       0.00           0.00   \n",
       "39713  Jul-07             Jul-10           Dec-86       0.00           0.00   \n",
       "39714  Jul-07             Jun-07           Oct-98       0.00           0.00   \n",
       "39715  Jul-07             Jun-07           Nov-88       0.00           0.00   \n",
       "39716  Jun-07             Jun-10           Oct-03       0.00           0.00   \n",
       "\n",
       "        total_pymnt  total_pymnt_inv  total_rec_prncp  total_rec_int  \\\n",
       "0       5863.155187          5833.84          5000.00         863.16   \n",
       "1       1008.710000          1008.71           456.46         435.17   \n",
       "2       3005.666844          3005.67          2400.00         605.67   \n",
       "3      12231.890000         12231.89         10000.00        2214.92   \n",
       "4       3513.330000          3513.33          2475.94        1037.39   \n",
       "...             ...              ...              ...            ...   \n",
       "39712   2822.969293          1213.88          2500.00         322.97   \n",
       "39713   9913.491822          1020.51          8500.00        1413.49   \n",
       "39714   5272.161128          1397.12          5000.00         272.16   \n",
       "39715   5174.198551           672.66          5000.00         174.20   \n",
       "39716   9195.263334           980.83          7500.00        1695.26   \n",
       "\n",
       "       total_rec_late_fee  recoveries  collection_recovery_fee last_pymnt_d  \\\n",
       "0                    0.00        0.00                     0.00       Jan-15   \n",
       "1                    0.00      117.08                     1.11       Apr-13   \n",
       "2                    0.00        0.00                     0.00       Jun-14   \n",
       "3                   16.97        0.00                     0.00       Jan-15   \n",
       "4                    0.00        0.00                     0.00       May-16   \n",
       "...                   ...         ...                      ...          ...   \n",
       "39712                0.00        0.00                     0.00       Jul-10   \n",
       "39713                0.00        0.00                     0.00       Jul-10   \n",
       "39714                0.00        0.00                     0.00       Apr-08   \n",
       "39715                0.00        0.00                     0.00       Jan-08   \n",
       "39716                0.00        0.00                     0.00       Jun-10   \n",
       "\n",
       "       last_pymnt_amnt last_credit_pull_d  revol_bal revol_util  \n",
       "0               171.62             May-16      13648     83.70%  \n",
       "1               119.66             Sep-13       1687      9.40%  \n",
       "2               649.91             May-16       2956     98.50%  \n",
       "3               357.48             Apr-16       5598        21%  \n",
       "4                67.79             May-16      27783     53.90%  \n",
       "...                ...                ...        ...        ...  \n",
       "39712            80.90             Jun-10       7274     13.10%  \n",
       "39713           281.94             Jul-10       8847     26.90%  \n",
       "39714             0.00             Jun-07       9698     19.40%  \n",
       "39715             0.00             Jun-07      85607      0.70%  \n",
       "39716           256.59             Jun-10       4175     51.50%  \n",
       "\n",
       "[39717 rows x 17 columns]"
      ]
     },
     "execution_count": 16,
     "metadata": {},
     "output_type": "execute_result"
    }
   ],
   "source": [
    "drop_cols = ['issue_d','last_credit_pull_d','earliest_cr_line','out_prncp','out_prncp_inv','total_pymnt','total_pymnt_inv','total_rec_prncp','total_rec_int','total_rec_late_fee','recoveries','collection_recovery_fee','last_pymnt_d','last_pymnt_amnt','last_credit_pull_d','revol_bal','revol_util']\n",
    "df_temp = df[drop_cols]\n",
    "df_temp"
   ]
  },
  {
   "cell_type": "code",
   "execution_count": 17,
   "id": "98717729-fada-490d-98f9-83a96963ccce",
   "metadata": {},
   "outputs": [
    {
     "data": {
      "text/plain": [
       "(39717, 23)"
      ]
     },
     "execution_count": 17,
     "metadata": {},
     "output_type": "execute_result"
    }
   ],
   "source": [
    "df.drop(drop_cols,axis=1,inplace=True)\n",
    "df.shape"
   ]
  },
  {
   "cell_type": "markdown",
   "id": "f4e7da45-13fb-4f47-bfe7-9374804164ab",
   "metadata": {},
   "source": [
    "### Business needs to analyse target variable 'loan_status' for values 'Fully Paid','Charged Off', this deleting all rows where 'loan_status' is other than these 2 values"
   ]
  },
  {
   "cell_type": "code",
   "execution_count": 18,
   "id": "9bf17548-e5ff-4885-aa68-810ab4a55d4d",
   "metadata": {},
   "outputs": [
    {
     "data": {
      "text/plain": [
       "(38577, 23)"
      ]
     },
     "execution_count": 18,
     "metadata": {},
     "output_type": "execute_result"
    }
   ],
   "source": [
    "df.drop(list(df[df['loan_status']=='Current'].index),axis=0,inplace=True)\n",
    "df.shape"
   ]
  },
  {
   "cell_type": "markdown",
   "id": "ccf63d71-7013-4db8-8c57-a67d1367d1db",
   "metadata": {},
   "source": [
    "### Handling rest of the null values"
   ]
  },
  {
   "cell_type": "code",
   "execution_count": 19,
   "id": "f8dede67-7c8a-4662-918c-cc66ee5fc424",
   "metadata": {},
   "outputs": [
    {
     "data": {
      "text/plain": [
       "loan_amnt                  0\n",
       "funded_amnt                0\n",
       "funded_amnt_inv            0\n",
       "term                       0\n",
       "int_rate                   0\n",
       "installment                0\n",
       "grade                      0\n",
       "sub_grade                  0\n",
       "emp_length              1033\n",
       "home_ownership             0\n",
       "annual_inc                 0\n",
       "verification_status        0\n",
       "loan_status                0\n",
       "purpose                    0\n",
       "zip_code                   0\n",
       "addr_state                 0\n",
       "dti                        0\n",
       "delinq_2yrs                0\n",
       "inq_last_6mths             0\n",
       "open_acc                   0\n",
       "pub_rec                    0\n",
       "total_acc                  0\n",
       "pub_rec_bankruptcies     697\n",
       "dtype: int64"
      ]
     },
     "execution_count": 19,
     "metadata": {},
     "output_type": "execute_result"
    }
   ],
   "source": [
    "df.isnull().sum()"
   ]
  },
  {
   "cell_type": "markdown",
   "id": "1aa3747c-6147-431c-95b6-d63ff86238b5",
   "metadata": {},
   "source": [
    "### imputing values for pub_rec_bankruptcies"
   ]
  },
  {
   "cell_type": "code",
   "execution_count": 20,
   "id": "5373426c-e636-47a2-820c-718da25dd2d3",
   "metadata": {},
   "outputs": [],
   "source": [
    "df['pub_rec_bankruptcies'].mode()[0]\n",
    "df['pub_rec_bankruptcies'].fillna(df['pub_rec_bankruptcies'].mode()[0],inplace=True) "
   ]
  },
  {
   "cell_type": "markdown",
   "id": "f894d7f7-c0eb-4792-a033-70a79bd56263",
   "metadata": {},
   "source": [
    "### removing rows with null for emp_length because imputing them may introduce bias"
   ]
  },
  {
   "cell_type": "code",
   "execution_count": 22,
   "id": "89b87bff-b73e-429b-a46f-ce90ccb7a99b",
   "metadata": {},
   "outputs": [
    {
     "data": {
      "text/plain": [
       "0"
      ]
     },
     "execution_count": 22,
     "metadata": {},
     "output_type": "execute_result"
    }
   ],
   "source": [
    "df.dropna(subset=['emp_length'],inplace=True) \n",
    "df.emp_length.isnull().sum()"
   ]
  },
  {
   "cell_type": "code",
   "execution_count": 23,
   "id": "327474f2-8e53-496c-be89-effe4dcd94a4",
   "metadata": {},
   "outputs": [
    {
     "data": {
      "text/plain": [
       "loan_amnt               0\n",
       "funded_amnt             0\n",
       "funded_amnt_inv         0\n",
       "term                    0\n",
       "int_rate                0\n",
       "installment             0\n",
       "grade                   0\n",
       "sub_grade               0\n",
       "emp_length              0\n",
       "home_ownership          0\n",
       "annual_inc              0\n",
       "verification_status     0\n",
       "loan_status             0\n",
       "purpose                 0\n",
       "zip_code                0\n",
       "addr_state              0\n",
       "dti                     0\n",
       "delinq_2yrs             0\n",
       "inq_last_6mths          0\n",
       "open_acc                0\n",
       "pub_rec                 0\n",
       "total_acc               0\n",
       "pub_rec_bankruptcies    0\n",
       "dtype: int64"
      ]
     },
     "execution_count": 23,
     "metadata": {},
     "output_type": "execute_result"
    }
   ],
   "source": [
    "df.isnull().sum()"
   ]
  },
  {
   "cell_type": "markdown",
   "id": "16f12b69-5cda-4420-b9da-d4c0ac3b3afd",
   "metadata": {},
   "source": [
    "### Fixing datatypes of various columns"
   ]
  },
  {
   "cell_type": "code",
   "execution_count": 24,
   "id": "08ab2274-2a6e-4912-bbe5-1aaea6725ca4",
   "metadata": {},
   "outputs": [
    {
     "name": "stdout",
     "output_type": "stream",
     "text": [
      "<class 'pandas.core.frame.DataFrame'>\n",
      "Index: 37544 entries, 0 to 39716\n",
      "Data columns (total 23 columns):\n",
      " #   Column                Non-Null Count  Dtype  \n",
      "---  ------                --------------  -----  \n",
      " 0   loan_amnt             37544 non-null  int64  \n",
      " 1   funded_amnt           37544 non-null  int64  \n",
      " 2   funded_amnt_inv       37544 non-null  float64\n",
      " 3   term                  37544 non-null  object \n",
      " 4   int_rate              37544 non-null  object \n",
      " 5   installment           37544 non-null  float64\n",
      " 6   grade                 37544 non-null  object \n",
      " 7   sub_grade             37544 non-null  object \n",
      " 8   emp_length            37544 non-null  object \n",
      " 9   home_ownership        37544 non-null  object \n",
      " 10  annual_inc            37544 non-null  float64\n",
      " 11  verification_status   37544 non-null  object \n",
      " 12  loan_status           37544 non-null  object \n",
      " 13  purpose               37544 non-null  object \n",
      " 14  zip_code              37544 non-null  object \n",
      " 15  addr_state            37544 non-null  object \n",
      " 16  dti                   37544 non-null  float64\n",
      " 17  delinq_2yrs           37544 non-null  int64  \n",
      " 18  inq_last_6mths        37544 non-null  int64  \n",
      " 19  open_acc              37544 non-null  int64  \n",
      " 20  pub_rec               37544 non-null  int64  \n",
      " 21  total_acc             37544 non-null  int64  \n",
      " 22  pub_rec_bankruptcies  37544 non-null  float64\n",
      "dtypes: float64(5), int64(7), object(11)\n",
      "memory usage: 6.9+ MB\n"
     ]
    }
   ],
   "source": [
    "df.info()"
   ]
  },
  {
   "cell_type": "code",
   "execution_count": 27,
   "id": "532db308-7a62-4478-92b0-190c37933a7e",
   "metadata": {},
   "outputs": [],
   "source": [
    "# def pertofloat(x):\n",
    "#     if pd.isna(x):\n",
    "#         return x\n",
    "#     else:\n",
    "#         return float(x.split('%')[0])\n",
    "\n",
    "# df.int_rate = df.int_rate.apply(pertofloat)\n",
    "df.int_rate = df.int_rate.str.replace('%','').astype('float')"
   ]
  },
  {
   "cell_type": "code",
   "execution_count": 28,
   "id": "69acd8cd-9153-439b-885a-0536f550bece",
   "metadata": {},
   "outputs": [
    {
     "data": {
      "text/plain": [
       "(37544, 25)"
      ]
     },
     "execution_count": 28,
     "metadata": {},
     "output_type": "execute_result"
    }
   ],
   "source": [
    "df.shape"
   ]
  },
  {
   "cell_type": "markdown",
   "id": "a0c95ae9-6b35-4c35-ada7-8ddfda299e39",
   "metadata": {},
   "source": [
    "# 2. Univariate Analysis"
   ]
  },
  {
   "cell_type": "markdown",
   "id": "c75e8fee-353a-4dfd-a4ee-f8b3f36a7643",
   "metadata": {},
   "source": [
    "## 2.1 Analysing Numeric Variables"
   ]
  },
  {
   "cell_type": "markdown",
   "id": "a908a521-6bf1-4483-895d-540ed16b1951",
   "metadata": {},
   "source": [
    "### 2.1.1 annual_inc"
   ]
  },
  {
   "cell_type": "code",
   "execution_count": 28,
   "id": "1e2e2d4c-a7fb-4664-81e3-082994c2f54d",
   "metadata": {},
   "outputs": [
    {
     "name": "stdout",
     "output_type": "stream",
     "text": [
      "41000.0 83000.0 42000.0 -22000.0 146000.0\n"
     ]
    },
    {
     "data": {
      "text/plain": [
       "9344"
      ]
     },
     "execution_count": 28,
     "metadata": {},
     "output_type": "execute_result"
    },
    {
     "data": {
      "image/png": "[encoded data removed]",
      "text/plain": [
       "<Figure size 640x480 with 1 Axes>"
      ]
     },
     "metadata": {},
     "output_type": "display_data"
    }
   ],
   "source": [
    "ax = sns.boxplot(y='annual_inc', data=df)\n",
    "ax.plot()\n",
    "\n",
    "def calc_wiskers(colname,data_frame):\n",
    "    q1 = df[colname].quantile(0.25)\n",
    "    q3 = df[colname].quantile(0.75)\n",
    "    iqr = q3-q1\n",
    "    lower_wisk = q1 - 1.5*iqr\n",
    "    upper_wisk = q3 + 1.5*iqr\n",
    "    print(q1,q3,iqr,lower_wisk,upper_wisk)\n",
    "    return lower_wisk,upper_wisk\n",
    "\n",
    "lower_wisk,upper_wisk = calc_wiskers('annual_inc',df)\n",
    "len(df[df.annual_inc>83000])"
   ]
  },
  {
   "cell_type": "markdown",
   "id": "764a61b8-b282-4ba8-8de4-fee6f9029be8",
   "metadata": {},
   "source": [
    "### getting rid of outliers for annual_inc"
   ]
  },
  {
   "cell_type": "code",
   "execution_count": 29,
   "id": "c8fd8085-0d4c-470e-b71f-a4f2098e6b89",
   "metadata": {},
   "outputs": [
    {
     "data": {
      "text/plain": [
       "(35805, 23)"
      ]
     },
     "execution_count": 29,
     "metadata": {},
     "output_type": "execute_result"
    }
   ],
   "source": [
    "len(df[df.annual_inc>83000])\n",
    "df = df[df.annual_inc<upper_wisk]\n",
    "df = df[df.annual_inc>lower_wisk]\n",
    "df.shape"
   ]
  },
  {
   "cell_type": "code",
   "execution_count": 30,
   "id": "10f6f543-6427-4f73-a8e6-4162c827a56c",
   "metadata": {},
   "outputs": [],
   "source": [
    "df_fullypaid = df[df['loan_status']=='Fully Paid']\n",
    "df_chargedoff = df[df['loan_status']=='Charged Off']"
   ]
  },
  {
   "cell_type": "markdown",
   "id": "c41ff8ac-9abd-471c-b09b-2a991e66f1ef",
   "metadata": {},
   "source": [
    "### 2.1.2 funded_amnt"
   ]
  },
  {
   "cell_type": "code",
   "execution_count": 31,
   "id": "3491ab1b-3262-401a-9ac5-f41d9e45fcc3",
   "metadata": {
    "scrolled": true
   },
   "outputs": [
    {
     "name": "stdout",
     "output_type": "stream",
     "text": [
      "5000.0 14400.0 9400.0 -9100.0 28500.0\n",
      "-9100.0 28500.0\n",
      "730\n",
      "0\n"
     ]
    },
    {
     "data": {
      "text/plain": [
       "[]"
      ]
     },
     "execution_count": 31,
     "metadata": {},
     "output_type": "execute_result"
    },
    {
     "data": {
      "image/png": "[encoded data removed]",
      "text/plain": [
       "<Figure size 640x480 with 1 Axes>"
      ]
     },
     "metadata": {},
     "output_type": "display_data"
    }
   ],
   "source": [
    "def calc_wiskers(colname,data_frame):\n",
    "    q1 = df[colname].quantile(0.25)\n",
    "    q3 = df[colname].quantile(0.75)\n",
    "    iqr = q3-q1\n",
    "    lower_wisk = q1 - 1.5*iqr\n",
    "    upper_wisk = q3 + 1.5*iqr\n",
    "    print(q1,q3,iqr,lower_wisk,upper_wisk)\n",
    "    return lower_wisk,upper_wisk\n",
    "\n",
    "lower_wisk,upper_wisk = calc_wiskers('funded_amnt',df)\n",
    "print(lower_wisk,upper_wisk)\n",
    "print(len(df[df.funded_amnt>upper_wisk]))\n",
    "print(len(df[df.funded_amnt<lower_wisk]))\n",
    "\n",
    "ax = sns.boxplot(y='funded_amnt', data=df)\n",
    "ax.plot()"
   ]
  },
  {
   "cell_type": "markdown",
   "id": "108f5be7-900c-418c-9b98-218d259e0a5c",
   "metadata": {},
   "source": [
    "### getting rid of outliers for funded_amnt"
   ]
  },
  {
   "cell_type": "code",
   "execution_count": 32,
   "id": "fba89783-953b-4491-ae9a-ebb4f30a756e",
   "metadata": {},
   "outputs": [
    {
     "data": {
      "text/plain": [
       "(35075, 23)"
      ]
     },
     "execution_count": 32,
     "metadata": {},
     "output_type": "execute_result"
    }
   ],
   "source": [
    "df = df[df.funded_amnt<upper_wisk]\n",
    "df = df[df.funded_amnt>lower_wisk]\n",
    "df.shape"
   ]
  },
  {
   "cell_type": "code",
   "execution_count": 35,
   "id": "a7f99abd-daee-414a-bd51-d4ff33bf43ac",
   "metadata": {},
   "outputs": [
    {
     "data": {
      "text/plain": [
       "[]"
      ]
     },
     "execution_count": 35,
     "metadata": {},
     "output_type": "execute_result"
    },
    {
     "data": {
      "image/png": "[encoded data removed]",
      "text/plain": [
       "<Figure size 640x480 with 1 Axes>"
      ]
     },
     "metadata": {},
     "output_type": "display_data"
    }
   ],
   "source": [
    "ax = sns.boxplot(y='funded_amnt', data=df)\n",
    "ax.plot()"
   ]
  },
  {
   "cell_type": "markdown",
   "id": "e4fef453-2243-4589-adfb-c089489a9b38",
   "metadata": {},
   "source": [
    "### 2.1.3 loan_amnt"
   ]
  },
  {
   "cell_type": "markdown",
   "id": "4b781234-5499-45cb-96bf-e6c5872a3b83",
   "metadata": {},
   "source": [
    "### ignoring loan_amnt for univariate as values are very similar to funded_amnt"
   ]
  },
  {
   "cell_type": "code",
   "execution_count": 41,
   "id": "47702ff6-dc9f-4b38-9359-f60d54158773",
   "metadata": {},
   "outputs": [],
   "source": [
    "df_temp = df\n",
    "df_temp['diff_loan&fundedamt'] = df_temp['loan_amnt'] - df_temp['funded_amnt']\n",
    "df_temp['diff_loan&fundedamt'].describe()\n",
    "df.drop('diff_loan&fundedamt',axis=1,inplace=True)"
   ]
  },
  {
   "cell_type": "markdown",
   "id": "46e7c51f-5e13-4918-89c9-9eaa061955ed",
   "metadata": {},
   "source": [
    "### 2.1.3 funded_amnt_inv"
   ]
  },
  {
   "cell_type": "markdown",
   "id": "b7f83821-02b4-476a-a230-8cd991c83487",
   "metadata": {},
   "source": [
    "### ignoring funded_amnt_inv for univariate as values are very similar to funded_amnt"
   ]
  },
  {
   "cell_type": "code",
   "execution_count": 42,
   "id": "d1826aa9-83d8-4fd2-bc0b-5af28239b78b",
   "metadata": {},
   "outputs": [],
   "source": [
    "df_temp['diff_funded&fundedinvamt'] = df_temp['funded_amnt'] - df_temp['funded_amnt_inv']\n",
    "df_temp['diff_funded&fundedinvamt'].describe()\n",
    "df.drop('diff_funded&fundedinvamt',axis=1,inplace=True)"
   ]
  },
  {
   "cell_type": "markdown",
   "id": "1072dc56-dc88-4101-91c6-5df13dc2d236",
   "metadata": {},
   "source": [
    "### 2.1.3 int_rate"
   ]
  },
  {
   "cell_type": "code",
   "execution_count": 43,
   "id": "7c77d134-236d-432a-b1ca-ce370f298563",
   "metadata": {},
   "outputs": [
    {
     "name": "stdout",
     "output_type": "stream",
     "text": [
      "8.94 14.27 5.33 0.9449999999999994 22.265\n",
      "0.9449999999999994 22.265\n",
      "0\n",
      "0\n"
     ]
    },
    {
     "data": {
      "image/png": "[encoded data removed]",
      "text/plain": [
       "<Figure size 640x480 with 1 Axes>"
      ]
     },
     "metadata": {},
     "output_type": "display_data"
    }
   ],
   "source": [
    "ax = sns.boxplot(y='int_rate', data=df)\n",
    "ax.plot()\n",
    "\n",
    "lower_wisk,upper_wisk = calc_wiskers('int_rate',df)\n",
    "print(lower_wisk,upper_wisk)\n",
    "print(len(df[df.int_rate>upper_wisk]))\n",
    "print(len(df[df.int_rate<lower_wisk]))"
   ]
  },
  {
   "cell_type": "markdown",
   "id": "a58375bb-3918-40b5-9cdb-77018c6e0cd6",
   "metadata": {},
   "source": [
    "### getting rid of outliers"
   ]
  },
  {
   "cell_type": "code",
   "execution_count": 44,
   "id": "92f727a1-ad61-4033-a0dc-2d95a12bf508",
   "metadata": {},
   "outputs": [
    {
     "data": {
      "text/plain": [
       "(35016, 23)"
      ]
     },
     "execution_count": 44,
     "metadata": {},
     "output_type": "execute_result"
    }
   ],
   "source": [
    "df = df[df.int_rate<upper_wisk]\n",
    "df = df[df.int_rate>lower_wisk]\n",
    "df.shape"
   ]
  },
  {
   "cell_type": "markdown",
   "id": "7db086e4-64cc-4253-830f-f850db2eaeb7",
   "metadata": {},
   "source": [
    "### 2.1.4 installment"
   ]
  },
  {
   "cell_type": "code",
   "execution_count": 45,
   "id": "d5fb0d27-bb3e-4c76-afbf-c7aeeb293799",
   "metadata": {},
   "outputs": [
    {
     "name": "stdout",
     "output_type": "stream",
     "text": [
      "163.0475 400.3925 237.34499999999997 -192.9699999999999 756.4099999999999\n",
      "-192.9699999999999 756.4099999999999\n",
      "904\n",
      "0\n"
     ]
    },
    {
     "data": {
      "image/png": "[encoded data removed]",
      "text/plain": [
       "<Figure size 640x480 with 1 Axes>"
      ]
     },
     "metadata": {},
     "output_type": "display_data"
    }
   ],
   "source": [
    "ax = sns.boxplot(y='installment', data=df)\n",
    "ax.plot()\n",
    "\n",
    "lower_wisk,upper_wisk = calc_wiskers('installment',df)\n",
    "print(lower_wisk,upper_wisk)\n",
    "print(len(df[df.installment>upper_wisk]))\n",
    "print(len(df[df.installment<lower_wisk]))"
   ]
  },
  {
   "cell_type": "markdown",
   "id": "86134693-1c9f-4a6b-8392-5fcf19f8337a",
   "metadata": {},
   "source": [
    "### getting rid of outliers"
   ]
  },
  {
   "cell_type": "code",
   "execution_count": 46,
   "id": "646e6ec9-8435-47d2-b356-97424f615b80",
   "metadata": {},
   "outputs": [
    {
     "data": {
      "text/plain": [
       "(34112, 23)"
      ]
     },
     "execution_count": 46,
     "metadata": {},
     "output_type": "execute_result"
    }
   ],
   "source": [
    "df = df[df.installment<upper_wisk]\n",
    "df = df[df.installment>lower_wisk]\n",
    "df.shape"
   ]
  },
  {
   "cell_type": "markdown",
   "id": "34bbc68b-0189-4a09-aef0-7b3b142d4f30",
   "metadata": {},
   "source": [
    "### 2.1.4 dti"
   ]
  },
  {
   "cell_type": "code",
   "execution_count": 78,
   "id": "1183d3e2-6632-4cbf-a218-f52dcd5de3a3",
   "metadata": {},
   "outputs": [
    {
     "data": {
      "text/plain": [
       "[]"
      ]
     },
     "execution_count": 78,
     "metadata": {},
     "output_type": "execute_result"
    },
    {
     "data": {
      "image/png": "[encoded data removed]",
      "text/plain": [
       "<Figure size 640x480 with 1 Axes>"
      ]
     },
     "metadata": {},
     "output_type": "display_data"
    }
   ],
   "source": [
    "ax = sns.boxplot(y='dti', data=df)\n",
    "ax.plot()\n"
   ]
  },
  {
   "cell_type": "markdown",
   "id": "8b31010d-7a53-419f-90a3-21de20a194ec",
   "metadata": {},
   "source": [
    "### 2.1.5 open_acc"
   ]
  },
  {
   "cell_type": "code",
   "execution_count": 86,
   "id": "5e4f2f2d-7a54-4e4d-b411-378fb2118183",
   "metadata": {},
   "outputs": [
    {
     "name": "stdout",
     "output_type": "stream",
     "text": [
      "6.0 12.0 6.0 -3.0 21.0\n",
      "-3.0 21.0\n",
      "407\n",
      "0\n"
     ]
    },
    {
     "data": {
      "image/png": "[encoded data removed]",
      "text/plain": [
       "<Figure size 640x480 with 1 Axes>"
      ]
     },
     "metadata": {},
     "output_type": "display_data"
    }
   ],
   "source": [
    "ax = sns.boxplot(y='open_acc', data=df)\n",
    "ax.plot()\n",
    "\n",
    "lower_wisk,upper_wisk = calc_wiskers('open_acc',df)\n",
    "print(lower_wisk,upper_wisk)\n",
    "print(len(df[df.open_acc>upper_wisk]))\n",
    "print(len(df[df.open_acc<lower_wisk]))"
   ]
  },
  {
   "cell_type": "markdown",
   "id": "811e77de-a216-41ac-ab71-fb4dbef62e36",
   "metadata": {},
   "source": [
    "### removing outlies in temp dataframe just to see if this var has any effect on outcome, otherwise no point in removing data unnessarily"
   ]
  },
  {
   "cell_type": "code",
   "execution_count": 88,
   "id": "8299723b-bf7e-4031-a8f6-31a57e1e05c9",
   "metadata": {},
   "outputs": [
    {
     "data": {
      "text/plain": [
       "(34787, 30)"
      ]
     },
     "execution_count": 88,
     "metadata": {},
     "output_type": "execute_result"
    }
   ],
   "source": [
    "df_temp = df[df.open_acc<upper_wisk]\n",
    "df_temp = df[df.open_acc>lower_wisk]\n",
    "df_temp.shape\n"
   ]
  },
  {
   "cell_type": "code",
   "execution_count": 93,
   "id": "b8bff585-aebd-4730-a469-6deb78daf9d1",
   "metadata": {},
   "outputs": [
    {
     "data": {
      "text/plain": [
       "[]"
      ]
     },
     "execution_count": 93,
     "metadata": {},
     "output_type": "execute_result"
    },
    {
     "data": {
      "image/png": "[encoded data removed]",
      "text/plain": [
       "<Figure size 640x480 with 1 Axes>"
      ]
     },
     "metadata": {},
     "output_type": "display_data"
    }
   ],
   "source": [
    "ax = sns.boxplot(y='open_acc', data=df)\n",
    "ax.plot()"
   ]
  },
  {
   "cell_type": "code",
   "execution_count": 94,
   "id": "4e1cfa9f-ad6a-40a9-bbb1-a7c956ec47aa",
   "metadata": {},
   "outputs": [
    {
     "data": {
      "image/png": "[encoded data removed]",
      "text/plain": [
       "<Figure size 1000x600 with 1 Axes>"
      ]
     },
     "metadata": {},
     "output_type": "display_data"
    },
    {
     "data": {
      "image/png": "[encoded data removed]",
      "text/plain": [
       "<Figure size 1000x600 with 1 Axes>"
      ]
     },
     "metadata": {},
     "output_type": "display_data"
    },
    {
     "data": {
      "image/png": "[encoded data removed]",
      "text/plain": [
       "<Figure size 1000x600 with 1 Axes>"
      ]
     },
     "metadata": {},
     "output_type": "display_data"
    }
   ],
   "source": [
    "df_temp_fullypaid = df_temp[df_temp['loan_status']=='Fully Paid']\n",
    "df_temp_chargedoff = df_temp[df_temp['loan_status']=='Charged Off']\n",
    "\n",
    "plt.figure(figsize=(10, 6))\n",
    "plt.hist(df_temp_fullypaid['open_acc'], bins=30, edgecolor='k', alpha=0.7)\n",
    "plt.title('Histogram of open_acc were loan is fully paid')\n",
    "plt.xlabel('funded amount')\n",
    "plt.ylabel('Frequency')\n",
    "\n",
    "plt.figure(figsize=(10, 6))\n",
    "plt.hist(df_temp_chargedoff['open_acc'], bins=30, edgecolor='k', alpha=0.7)\n",
    "plt.title('Histogram of open_acc were loan is charged off')\n",
    "plt.xlabel('open_acc')\n",
    "plt.ylabel('Frequency')\n",
    "\n",
    "plt.figure(figsize=(10, 6))\n",
    "plt.hist(df_temp['open_acc'], bins=30, edgecolor='k', alpha=0.7)\n",
    "plt.title('Histogram of open_acc for all loans')\n",
    "plt.xlabel('open_acc')\n",
    "plt.ylabel('Frequency')\n",
    "\n",
    "plt.show()\n"
   ]
  },
  {
   "cell_type": "code",
   "execution_count": 95,
   "id": "8bf8f93f-7d65-4829-a2ea-4affa78f11cb",
   "metadata": {},
   "outputs": [
    {
     "name": "stderr",
     "output_type": "stream",
     "text": [
      "C:\\Users\\sdaks\\anaconda3\\Lib\\site-packages\\seaborn\\_oldcore.py:1119: FutureWarning: use_inf_as_na option is deprecated and will be removed in a future version. Convert inf values to NaN before operating instead.\n",
      "  with pd.option_context('mode.use_inf_as_na', True):\n"
     ]
    },
    {
     "data": {
      "image/png": "[encoded data removed]",
      "text/plain": [
       "<Figure size 1000x600 with 1 Axes>"
      ]
     },
     "metadata": {},
     "output_type": "display_data"
    }
   ],
   "source": [
    "plt.figure(figsize=(10, 6))\n",
    "sns.histplot(data=df_temp, x='open_acc', hue='loan_status', multiple='stack')\n",
    "plt.title('loan status vs open_acc')\n",
    "plt.xlabel('open_acc')\n",
    "plt.ylabel('Frequency')\n",
    "plt.show()"
   ]
  },
  {
   "cell_type": "markdown",
   "id": "3322839f-cedb-4d86-b21b-c2dc8686ff4b",
   "metadata": {},
   "source": [
    "### if you compare graphs with totally paid and charged off , they have same charateristics , meaning charged off and full paid cases seem proportional for corresponding bins of funded amout inv , so dti seem to have no influence on which loan amount was fully paid or charged off ie our target variable loan_status."
   ]
  },
  {
   "cell_type": "markdown",
   "id": "578855bd-c621-400b-a194-fb607bce3f5f",
   "metadata": {},
   "source": [
    "### 2.1.6 total_acc"
   ]
  },
  {
   "cell_type": "code",
   "execution_count": 100,
   "id": "b000b2d6-baeb-415b-8920-5cddb1949ca1",
   "metadata": {},
   "outputs": [
    {
     "data": {
      "text/plain": [
       "[]"
      ]
     },
     "execution_count": 100,
     "metadata": {},
     "output_type": "execute_result"
    },
    {
     "data": {
      "image/png": "[encoded data removed]",
      "text/plain": [
       "<Figure size 640x480 with 1 Axes>"
      ]
     },
     "metadata": {},
     "output_type": "display_data"
    }
   ],
   "source": [
    "ax = sns.boxplot(y='total_acc', data=df)\n",
    "ax.plot()"
   ]
  },
  {
   "cell_type": "code",
   "execution_count": 104,
   "id": "1774ced4-37a9-42dd-8ead-f9858280852e",
   "metadata": {},
   "outputs": [
    {
     "name": "stdout",
     "output_type": "stream",
     "text": [
      "13.0 27.0 14.0 -8.0 48.0\n",
      "-8.0 48.0\n",
      "0\n",
      "0\n"
     ]
    },
    {
     "data": {
      "text/plain": [
       "47"
      ]
     },
     "execution_count": 104,
     "metadata": {},
     "output_type": "execute_result"
    }
   ],
   "source": [
    "lower_wisk,upper_wisk = calc_wiskers('total_acc',df_temp)\n",
    "print(lower_wisk,upper_wisk)\n",
    "print(len(df_temp[df_temp.total_acc>upper_wisk]))\n",
    "print(len(df_temp[df_temp.total_acc<lower_wisk]))\n",
    "\n",
    "df_temp = df_temp[df_temp.total_acc<upper_wisk]\n",
    "df_temp = df_temp[df_temp.total_acc>lower_wisk]\n",
    "df_temp.shape\n",
    "\n",
    "df_temp.total_acc.max()"
   ]
  },
  {
   "cell_type": "code",
   "execution_count": 108,
   "id": "f6759d96-1a96-4240-a9bb-dc12ea0862bf",
   "metadata": {},
   "outputs": [
    {
     "data": {
      "image/png": "[encoded data removed]",
      "text/plain": [
       "<Figure size 1000x600 with 1 Axes>"
      ]
     },
     "metadata": {},
     "output_type": "display_data"
    },
    {
     "data": {
      "image/png": "[encoded data removed]",
      "text/plain": [
       "<Figure size 1000x600 with 1 Axes>"
      ]
     },
     "metadata": {},
     "output_type": "display_data"
    },
    {
     "data": {
      "image/png": "[encoded data removed]",
      "text/plain": [
       "<Figure size 1000x600 with 1 Axes>"
      ]
     },
     "metadata": {},
     "output_type": "display_data"
    },
    {
     "name": "stderr",
     "output_type": "stream",
     "text": [
      "C:\\Users\\sdaks\\anaconda3\\Lib\\site-packages\\seaborn\\_oldcore.py:1119: FutureWarning: use_inf_as_na option is deprecated and will be removed in a future version. Convert inf values to NaN before operating instead.\n",
      "  with pd.option_context('mode.use_inf_as_na', True):\n"
     ]
    },
    {
     "data": {
      "image/png": "[encoded data removed]",
      "text/plain": [
       "<Figure size 1000x600 with 1 Axes>"
      ]
     },
     "metadata": {},
     "output_type": "display_data"
    }
   ],
   "source": [
    "df_temp_fullypaid = df_temp[df_temp['loan_status']=='Fully Paid']\n",
    "df_temp_chargedoff = df_temp[df_temp['loan_status']=='Charged Off']\n",
    "\n",
    "plt.figure(figsize=(10, 6))\n",
    "plt.hist(df_temp_fullypaid['total_acc'], bins=30, edgecolor='k', alpha=0.7)\n",
    "plt.title('Histogram of total_acc were loan is fully paid')\n",
    "plt.xlabel('funded amount')\n",
    "plt.ylabel('Frequency')\n",
    "\n",
    "plt.figure(figsize=(10, 6))\n",
    "plt.hist(df_temp_chargedoff['total_acc'], bins=30, edgecolor='k', alpha=0.7)\n",
    "plt.title('Histogram of total_acc were loan is charged off')\n",
    "plt.xlabel('total_acc')\n",
    "plt.ylabel('Frequency')\n",
    "\n",
    "plt.figure(figsize=(10, 6))\n",
    "plt.hist(df_temp['total_acc'], bins=30, edgecolor='k', alpha=0.7)\n",
    "plt.title('Histogram of total_acc for all loans')\n",
    "plt.xlabel('total_acc')\n",
    "plt.ylabel('Frequency')\n",
    "\n",
    "plt.show()\n",
    "\n",
    "plt.figure(figsize=(10, 6))\n",
    "sns.histplot(data=df_temp, x='total_acc', hue='loan_status', multiple='stack')\n",
    "plt.title('loan status vs total_acc')\n",
    "plt.xlabel('total_acc')\n",
    "plt.ylabel('Frequency')\n",
    "plt.show()\n",
    "\n",
    "### Although graph for all loans seem to be left skewed , if you compare graphs with tottally paid and charged off , they have same charateristics , meaning charged off and full paid cases seem proportional for corresponding bins of funded amout inv , so total_acc seem to have no influence on which loan amount was fully paid or charged off ie our target variable loan_status.\n",
    "\n",
    "### if you compare graphs with totally paid and charged off , they have same charateristics , meaning charged off and full paid cases seem proportional for corresponding bins of funded amout inv , so dti seem to have no influence on which loan amount was fully paid or charged off ie our target variable loan_status "
   ]
  },
  {
   "cell_type": "markdown",
   "id": "a0d3bec7-5350-4c65-a44b-f81b10106078",
   "metadata": {},
   "source": [
    "\n",
    "### if you compare graphs with totally paid and charged off , they have same charateristics , meaning charged off and full paid cases seem proportional for corresponding bins of funded amout inv , so dti seem to have no influence on which loan amount was fully paid or charged off ie our target variable loan_status "
   ]
  },
  {
   "cell_type": "code",
   "execution_count": 118,
   "id": "34c0e817-2ea8-42fd-b1c0-2b3af4b93324",
   "metadata": {},
   "outputs": [
    {
     "name": "stdout",
     "output_type": "stream",
     "text": [
      "<class 'pandas.core.frame.DataFrame'>\n",
      "Index: 34174 entries, 0 to 39716\n",
      "Data columns (total 23 columns):\n",
      " #   Column                Non-Null Count  Dtype  \n",
      "---  ------                --------------  -----  \n",
      " 0   loan_amnt             34174 non-null  int64  \n",
      " 1   funded_amnt           34174 non-null  int64  \n",
      " 2   funded_amnt_inv       34174 non-null  float64\n",
      " 3   term                  34174 non-null  object \n",
      " 4   int_rate              34174 non-null  float64\n",
      " 5   installment           34174 non-null  float64\n",
      " 6   grade                 34174 non-null  object \n",
      " 7   sub_grade             34174 non-null  object \n",
      " 8   emp_length            34174 non-null  object \n",
      " 9   home_ownership        34174 non-null  object \n",
      " 10  annual_inc            34174 non-null  float64\n",
      " 11  verification_status   34174 non-null  object \n",
      " 12  loan_status           34174 non-null  object \n",
      " 13  purpose               34174 non-null  object \n",
      " 14  zip_code              34174 non-null  object \n",
      " 15  addr_state            34174 non-null  object \n",
      " 16  dti                   34174 non-null  float64\n",
      " 17  delinq_2yrs           34174 non-null  int64  \n",
      " 18  inq_last_6mths        34174 non-null  int64  \n",
      " 19  open_acc              34174 non-null  int64  \n",
      " 20  pub_rec               34174 non-null  int64  \n",
      " 21  total_acc             34174 non-null  int64  \n",
      " 22  pub_rec_bankruptcies  34174 non-null  float64\n",
      "dtypes: float64(6), int64(7), object(10)\n",
      "memory usage: 7.3+ MB\n"
     ]
    }
   ],
   "source": [
    "df.info()"
   ]
  },
  {
   "cell_type": "code",
   "execution_count": 119,
   "id": "d052ac17-ad5c-49e2-9ed7-eeb41b7f10dc",
   "metadata": {},
   "outputs": [
    {
     "data": {
      "text/plain": [
       "pub_rec_bankruptcies\n",
       "0.0    32723\n",
       "1.0     1446\n",
       "2.0        5\n",
       "Name: count, dtype: int64"
      ]
     },
     "execution_count": 119,
     "metadata": {},
     "output_type": "execute_result"
    }
   ],
   "source": [
    "df.pub_rec_bankruptcies.value_counts()"
   ]
  },
  {
   "cell_type": "markdown",
   "id": "5e728abb-c95b-42ba-be38-4e598a8bdf8a",
   "metadata": {},
   "source": [
    "# 2. Segmented Univariate Analysis"
   ]
  },
  {
   "cell_type": "markdown",
   "id": "4087fa9f-3bb8-4c79-bafb-6370a9381726",
   "metadata": {},
   "source": [
    "### 2.1 grade"
   ]
  },
  {
   "cell_type": "code",
   "execution_count": 188,
   "id": "504b17e7-10b4-40de-a17f-10d0575341ac",
   "metadata": {},
   "outputs": [
    {
     "name": "stderr",
     "output_type": "stream",
     "text": [
      "C:\\Users\\sdaks\\anaconda3\\Lib\\site-packages\\seaborn\\_oldcore.py:1119: FutureWarning: use_inf_as_na option is deprecated and will be removed in a future version. Convert inf values to NaN before operating instead.\n",
      "  with pd.option_context('mode.use_inf_as_na', True):\n"
     ]
    },
    {
     "data": {
      "image/png": "[encoded data removed]",
      "text/plain": [
       "<Figure size 634.125x500 with 1 Axes>"
      ]
     },
     "metadata": {},
     "output_type": "display_data"
    }
   ],
   "source": [
    "p = sns.displot(data=df, x='grade', stat='percent',hue='loan_status')\n",
    "plt.show()"
   ]
  },
  {
   "cell_type": "code",
   "execution_count": 187,
   "id": "84d7e04d-ee69-4fe7-ab7a-7068960eed5b",
   "metadata": {},
   "outputs": [
    {
     "name": "stdout",
     "output_type": "stream",
     "text": [
      "   grade  loan_status  count  total_count  percentage\n",
      "0      A  Charged Off    542         9125        5.94\n",
      "1      A   Fully Paid   8583         9125       94.06\n",
      "2      B  Charged Off   1270        10511       12.08\n",
      "3      B   Fully Paid   9241        10511       87.92\n",
      "4      C  Charged Off   1213         7066       17.17\n",
      "5      C   Fully Paid   5853         7066       82.83\n",
      "6      D  Charged Off    984         4488       21.93\n",
      "7      D   Fully Paid   3504         4488       78.07\n",
      "8      E  Charged Off    577         2127       27.13\n",
      "9      E   Fully Paid   1550         2127       72.87\n",
      "10     F  Charged Off    224          693       32.32\n",
      "11     F   Fully Paid    469          693       67.68\n",
      "12     G  Charged Off     51          164       31.10\n",
      "13     G   Fully Paid    113          164       68.90\n",
      "   grade  loan_status  count  total_count  percentage\n",
      "0      A  Charged Off    542         9125        5.94\n",
      "2      B  Charged Off   1270        10511       12.08\n",
      "4      C  Charged Off   1213         7066       17.17\n",
      "6      D  Charged Off    984         4488       21.93\n",
      "8      E  Charged Off    577         2127       27.13\n",
      "10     F  Charged Off    224          693       32.32\n",
      "12     G  Charged Off     51          164       31.10\n"
     ]
    }
   ],
   "source": [
    "df_temp = df.groupby(['grade','loan_status']).size()\n",
    "df_temp = df_temp.reset_index(name='count')\n",
    "df_temp['total_count'] = df_temp.groupby('grade')['count'].transform('sum')\n",
    "# df_temp['total_count']\n",
    "\n",
    "df_temp['percentage'] = round(df_temp['count']/df_temp['total_count']*100,2)\n",
    "\n",
    "print(df_temp)\n",
    "\n",
    "print(df_temp[df_temp['loan_status']=='Charged Off'])\n",
    "\n"
   ]
  },
  {
   "cell_type": "markdown",
   "id": "96fb42e4-8ad6-4fdc-be19-83a6bb0ee838",
   "metadata": {},
   "source": [
    "### Observation: Of the all persons who have taken loan from category C and onwards more than 12% have defaulted, so categories C,D,E,F,G have very high rate of defaults"
   ]
  },
  {
   "cell_type": "code",
   "execution_count": 190,
   "id": "7c500e6a-9a2e-460a-a5cb-438ad3085b7c",
   "metadata": {},
   "outputs": [
    {
     "data": {
      "text/plain": [
       "term\n",
       " 36 months    26292\n",
       " 60 months     7882\n",
       "Name: count, dtype: int64"
      ]
     },
     "execution_count": 190,
     "metadata": {},
     "output_type": "execute_result"
    }
   ],
   "source": [
    "df.term.value_counts()"
   ]
  },
  {
   "cell_type": "markdown",
   "id": "75433b89-53b5-4b78-b9b3-035a11535047",
   "metadata": {},
   "source": [
    "### 2.2 term"
   ]
  },
  {
   "cell_type": "code",
   "execution_count": 193,
   "id": "2ccb64fa-ad55-4b8e-b05b-70735aaa7516",
   "metadata": {},
   "outputs": [
    {
     "name": "stdout",
     "output_type": "stream",
     "text": [
      "         term  loan_status  count  total_count  percentage\n",
      "0   36 months  Charged Off   2875        26292       10.93\n",
      "1   36 months   Fully Paid  23417        26292       89.07\n",
      "2   60 months  Charged Off   1986         7882       25.20\n",
      "3   60 months   Fully Paid   5896         7882       74.80\n",
      "         term  loan_status  count  total_count  percentage\n",
      "0   36 months  Charged Off   2875        26292       10.93\n",
      "2   60 months  Charged Off   1986         7882       25.20\n"
     ]
    }
   ],
   "source": [
    "df_temp = df.groupby(['term','loan_status']).size()\n",
    "df_temp = df_temp.reset_index(name='count')\n",
    "df_temp['total_count'] = df_temp.groupby('term')['count'].transform('sum')\n",
    "# df_temp['total_count']\n",
    "\n",
    "df_temp['percentage'] = round(df_temp['count']/df_temp['total_count']*100,2)\n",
    "\n",
    "print(df_temp)\n",
    "\n",
    "print(df_temp[df_temp['loan_status']=='Charged Off'])"
   ]
  },
  {
   "cell_type": "markdown",
   "id": "a09ca3e7-484d-4538-b586-44688cfaff1a",
   "metadata": {},
   "source": [
    "### Observation: Of the all persons who have taken loan for term of '60 months' more than 25% have defaulted, so categories term of 60 months have very high rate of defaults"
   ]
  },
  {
   "cell_type": "markdown",
   "id": "f861cf61-9742-49bf-b352-1e81bbce1481",
   "metadata": {},
   "source": [
    "### 2.3 interest rate"
   ]
  },
  {
   "cell_type": "code",
   "execution_count": 202,
   "id": "79851204-b8af-4096-8607-e0aadf3c7555",
   "metadata": {},
   "outputs": [
    {
     "data": {
      "text/plain": [
       "5.42"
      ]
     },
     "execution_count": 202,
     "metadata": {},
     "output_type": "execute_result"
    }
   ],
   "source": [
    "df.int_rate.min()"
   ]
  },
  {
   "cell_type": "code",
   "execution_count": 210,
   "id": "c6a07ff1-56db-4220-b04a-25f356e2dd1f",
   "metadata": {},
   "outputs": [
    {
     "name": "stdout",
     "output_type": "stream",
     "text": [
      "[5, 7, 9, 11, 13, 15, 17, 19, 21, 23]\n"
     ]
    },
    {
     "name": "stderr",
     "output_type": "stream",
     "text": [
      "C:\\Users\\sdaks\\anaconda3\\Lib\\site-packages\\seaborn\\_oldcore.py:1119: FutureWarning: use_inf_as_na option is deprecated and will be removed in a future version. Convert inf values to NaN before operating instead.\n",
      "  with pd.option_context('mode.use_inf_as_na', True):\n"
     ]
    },
    {
     "data": {
      "image/png": "[encoded data removed]",
      "text/plain": [
       "<Figure size 634.125x500 with 1 Axes>"
      ]
     },
     "metadata": {},
     "output_type": "display_data"
    }
   ],
   "source": [
    "custom_bins = list(range(5,25,2))\n",
    "print(custom_bins)\n",
    "\n",
    "p = sns.displot(data=df, x='int_rate', stat='percent',hue='loan_status',bins=custom_bins)\n",
    "plt.xticks = custom_bins\n",
    "plt.show()"
   ]
  },
  {
   "cell_type": "code",
   "execution_count": 218,
   "id": "a16f6e1b-81ee-4487-b4c6-8ff1d9e5a1b3",
   "metadata": {},
   "outputs": [
    {
     "name": "stdout",
     "output_type": "stream",
     "text": [
      "   int rate category  loan_status  count  total_count  percentage\n",
      "0            10-12.5  Charged Off   1111         8475       13.11\n",
      "1            10-12.5   Fully Paid   7364         8475       86.89\n",
      "2            12.5-15  Charged Off   1328         8022       16.55\n",
      "3            12.5-15   Fully Paid   6694         8022       83.45\n",
      "4            15-17.5  Charged Off   1029         4464       23.05\n",
      "5            15-17.5   Fully Paid   3435         4464       76.95\n",
      "6            17.5-20  Charged Off    485         1608       30.16\n",
      "7            17.5-20   Fully Paid   1123         1608       69.84\n",
      "8            20-22.5  Charged Off    172          437       39.36\n",
      "9            20-22.5   Fully Paid    265          437       60.64\n",
      "10             5-7.5  Charged Off    226         4859        4.65\n",
      "11             5-7.5   Fully Paid   4633         4859       95.35\n",
      "12            7.5-10  Charged Off    510         6309        8.08\n",
      "13            7.5-10   Fully Paid   5799         6309       91.92\n",
      "   int rate category  loan_status  count  total_count  percentage\n",
      "0            10-12.5  Charged Off   1111         8475       13.11\n",
      "2            12.5-15  Charged Off   1328         8022       16.55\n",
      "4            15-17.5  Charged Off   1029         4464       23.05\n",
      "6            17.5-20  Charged Off    485         1608       30.16\n",
      "8            20-22.5  Charged Off    172          437       39.36\n",
      "10             5-7.5  Charged Off    226         4859        4.65\n",
      "12            7.5-10  Charged Off    510         6309        8.08\n"
     ]
    }
   ],
   "source": [
    "def get_intrate_category(x):\n",
    "    if x>=5 and x<=7.5:\n",
    "        return '5-7.5'\n",
    "    elif x>7.5 and x<=10:\n",
    "        return '7.5-10'\n",
    "    elif x>10 and x<=12.5:\n",
    "        return '10-12.5'\n",
    "    elif x>12.5 and x<=15:\n",
    "        return '12.5-15'\n",
    "    elif x>15 and x<=17.5:\n",
    "        return '15-17.5'\n",
    "    elif x>17.5 and x<=20:\n",
    "        return '17.5-20'\n",
    "    elif x>20 and x<=22.5:\n",
    "        return '20-22.5'\n",
    "\n",
    "df['int rate category'] = df['int_rate'].apply(get_intrate_category)\n",
    "df['int rate category']\n",
    "\n",
    "df_temp = df.groupby(['int rate category','loan_status']).size()\n",
    "df_temp = df_temp.reset_index(name='count')\n",
    "df_temp['total_count'] = df_temp.groupby('int rate category')['count'].transform('sum')\n",
    "# df_temp['total_count']\n",
    "\n",
    "df_temp['percentage'] = round(df_temp['count']/df_temp['total_count']*100,2)\n",
    "\n",
    "print(df_temp)\n",
    "\n",
    "print(df_temp[df_temp['loan_status']=='Charged Off'])"
   ]
  },
  {
   "cell_type": "markdown",
   "id": "3e886804-d6de-4928-a381-1a7799dfcdad",
   "metadata": {},
   "source": [
    "### Observation: Of the all persons who have taken loan from rate of 10% and onwards onwards more than 13% have defaulted, so rate of interest of 10% and higher have very high rate of defaults"
   ]
  },
  {
   "cell_type": "code",
   "execution_count": 223,
   "id": "ff39f70a-84e5-4db9-96e6-863397e72548",
   "metadata": {},
   "outputs": [
    {
     "data": {
      "text/plain": [
       "sub_grade\n",
       "A4    2615\n",
       "B3    2505\n",
       "A5    2473\n",
       "B5    2361\n",
       "B4    2227\n",
       "C1    1862\n",
       "B2    1799\n",
       "C2    1741\n",
       "A3    1664\n",
       "B1    1619\n",
       "A2    1364\n",
       "C3    1341\n",
       "D2    1146\n",
       "C4    1097\n",
       "C5    1025\n",
       "A1    1009\n",
       "D3     979\n",
       "D1     846\n",
       "D4     802\n",
       "D5     715\n",
       "E1     588\n",
       "E2     500\n",
       "E3     417\n",
       "E4     340\n",
       "E5     282\n",
       "F1     215\n",
       "F2     180\n",
       "F3     125\n",
       "F4     111\n",
       "F5      62\n",
       "G1      57\n",
       "G2      44\n",
       "G3      25\n",
       "G4      24\n",
       "G5      14\n",
       "Name: count, dtype: int64"
      ]
     },
     "execution_count": 223,
     "metadata": {},
     "output_type": "execute_result"
    }
   ],
   "source": [
    "df.sub_grade.value_counts()"
   ]
  },
  {
   "cell_type": "code",
   "execution_count": 225,
   "id": "7a406335-b64a-4506-8ec9-af33f5878ddb",
   "metadata": {},
   "outputs": [
    {
     "name": "stderr",
     "output_type": "stream",
     "text": [
      "C:\\Users\\sdaks\\anaconda3\\Lib\\site-packages\\seaborn\\_oldcore.py:1119: FutureWarning: use_inf_as_na option is deprecated and will be removed in a future version. Convert inf values to NaN before operating instead.\n",
      "  with pd.option_context('mode.use_inf_as_na', True):\n"
     ]
    },
    {
     "data": {
      "image/png": "[encoded data removed]",
      "text/plain": [
       "<Figure size 634.125x500 with 1 Axes>"
      ]
     },
     "metadata": {},
     "output_type": "display_data"
    },
    {
     "ename": "TypeError",
     "evalue": "'list' object is not callable",
     "output_type": "error",
     "traceback": [
      "\u001b[1;31m---------------------------------------------------------------------------\u001b[0m",
      "\u001b[1;31mTypeError\u001b[0m                                 Traceback (most recent call last)",
      "Cell \u001b[1;32mIn[225], line 3\u001b[0m\n\u001b[0;32m      1\u001b[0m p \u001b[38;5;241m=\u001b[39m sns\u001b[38;5;241m.\u001b[39mdisplot(data\u001b[38;5;241m=\u001b[39mdf, x\u001b[38;5;241m=\u001b[39m\u001b[38;5;124m'\u001b[39m\u001b[38;5;124msub_grade\u001b[39m\u001b[38;5;124m'\u001b[39m, stat\u001b[38;5;241m=\u001b[39m\u001b[38;5;124m'\u001b[39m\u001b[38;5;124mpercent\u001b[39m\u001b[38;5;124m'\u001b[39m,hue\u001b[38;5;241m=\u001b[39m\u001b[38;5;124m'\u001b[39m\u001b[38;5;124mloan_status\u001b[39m\u001b[38;5;124m'\u001b[39m)\n\u001b[0;32m      2\u001b[0m plt\u001b[38;5;241m.\u001b[39mshow()\n\u001b[1;32m----> 3\u001b[0m plt\u001b[38;5;241m.\u001b[39mxticks(rotation\u001b[38;5;241m=\u001b[39m\u001b[38;5;241m90\u001b[39m)\n",
      "\u001b[1;31mTypeError\u001b[0m: 'list' object is not callable"
     ]
    }
   ],
   "source": [
    "p = sns.displot(data=df, x='sub_grade', stat='percent',hue='loan_status')\n",
    "plt.show()\n",
    "plt.xticks(rotation=90)"
   ]
  },
  {
   "cell_type": "code",
   "execution_count": 226,
   "id": "d2b78bfc-455e-40d0-b136-1059eae31067",
   "metadata": {},
   "outputs": [
    {
     "data": {
      "text/plain": [
       "[5, 7, 9, 11, 13, 15, 17, 19, 21, 23]"
      ]
     },
     "execution_count": 226,
     "metadata": {},
     "output_type": "execute_result"
    }
   ],
   "source": [
    "plt.xticks"
   ]
  },
  {
   "cell_type": "code",
   "execution_count": 227,
   "id": "9d05b44c-99ee-4831-9295-cc6dd23f9975",
   "metadata": {},
   "outputs": [
    {
     "name": "stdout",
     "output_type": "stream",
     "text": [
      "   sub_grade  loan_status  count  total_count  percentage\n",
      "0         A1  Charged Off     24         1009        2.38\n",
      "1         A1   Fully Paid    985         1009       97.62\n",
      "2         A2  Charged Off     67         1364        4.91\n",
      "3         A2   Fully Paid   1297         1364       95.09\n",
      "4         A3  Charged Off     87         1664        5.23\n",
      "..       ...          ...    ...          ...         ...\n",
      "65        G3   Fully Paid     16           25       64.00\n",
      "66        G4  Charged Off      6           24       25.00\n",
      "67        G4   Fully Paid     18           24       75.00\n",
      "68        G5  Charged Off      4           14       28.57\n",
      "69        G5   Fully Paid     10           14       71.43\n",
      "\n",
      "[70 rows x 5 columns]\n",
      "   sub_grade  loan_status  count  total_count  percentage\n",
      "0         A1  Charged Off     24         1009        2.38\n",
      "2         A2  Charged Off     67         1364        4.91\n",
      "4         A3  Charged Off     87         1664        5.23\n",
      "6         A4  Charged Off    161         2615        6.16\n",
      "8         A5  Charged Off    203         2473        8.21\n",
      "10        B1  Charged Off    148         1619        9.14\n",
      "12        B2  Charged Off    193         1799       10.73\n",
      "14        B3  Charged Off    300         2505       11.98\n",
      "16        B4  Charged Off    298         2227       13.38\n",
      "18        B5  Charged Off    331         2361       14.02\n",
      "20        C1  Charged Off    296         1862       15.90\n",
      "22        C2  Charged Off    286         1741       16.43\n",
      "24        C3  Charged Off    243         1341       18.12\n",
      "26        C4  Charged Off    196         1097       17.87\n",
      "28        C5  Charged Off    192         1025       18.73\n",
      "30        D1  Charged Off    154          846       18.20\n",
      "32        D2  Charged Off    242         1146       21.12\n",
      "34        D3  Charged Off    219          979       22.37\n",
      "36        D4  Charged Off    186          802       23.19\n",
      "38        D5  Charged Off    183          715       25.59\n",
      "40        E1  Charged Off    159          588       27.04\n",
      "42        E2  Charged Off    134          500       26.80\n",
      "44        E3  Charged Off    100          417       23.98\n",
      "46        E4  Charged Off    104          340       30.59\n",
      "48        E5  Charged Off     80          282       28.37\n",
      "50        F1  Charged Off     62          215       28.84\n",
      "52        F2  Charged Off     55          180       30.56\n",
      "54        F3  Charged Off     38          125       30.40\n",
      "56        F4  Charged Off     38          111       34.23\n",
      "58        F5  Charged Off     31           62       50.00\n",
      "60        G1  Charged Off     17           57       29.82\n",
      "62        G2  Charged Off     15           44       34.09\n",
      "64        G3  Charged Off      9           25       36.00\n",
      "66        G4  Charged Off      6           24       25.00\n",
      "68        G5  Charged Off      4           14       28.57\n"
     ]
    }
   ],
   "source": [
    "df_temp = df.groupby(['sub_grade','loan_status']).size()\n",
    "df_temp = df_temp.reset_index(name='count')\n",
    "df_temp['total_count'] = df_temp.groupby('sub_grade')['count'].transform('sum')\n",
    "# df_temp['total_count']\n",
    "\n",
    "df_temp['percentage'] = round(df_temp['count']/df_temp['total_count']*100,2)\n",
    "\n",
    "print(df_temp)\n",
    "\n",
    "print(df_temp[df_temp['loan_status']=='Charged Off'])"
   ]
  },
  {
   "cell_type": "code",
   "execution_count": null,
   "id": "ae930e6b-5899-4a0d-9ff7-75d50b8f246a",
   "metadata": {},
   "outputs": [],
   "source": []
  }
 ],
 "metadata": {
  "kernelspec": {
   "display_name": "Python 3 (ipykernel)",
   "language": "python",
   "name": "python3"
  },
  "language_info": {
   "codemirror_mode": {
    "name": "ipython",
    "version": 3
   },
   "file_extension": ".py",
   "mimetype": "text/x-python",
   "name": "python",
   "nbconvert_exporter": "python",
   "pygments_lexer": "ipython3",
   "version": "3.11.7"
  }
 },
 "nbformat": 4,
 "nbformat_minor": 5
}
